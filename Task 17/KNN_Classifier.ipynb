{
 "cells": [
  {
   "cell_type": "code",
   "execution_count": 21,
   "id": "2770304a",
   "metadata": {
    "_cell_guid": "b1076dfc-b9ad-4769-8c92-a6c4dae69d19",
    "_uuid": "8f2839f25d086af736a60e9eeb907d3b93b6e0e5",
    "execution": {
     "iopub.execute_input": "2022-08-20T09:50:07.767086Z",
     "iopub.status.busy": "2022-08-20T09:50:07.766244Z",
     "iopub.status.idle": "2022-08-20T09:50:09.422444Z",
     "shell.execute_reply": "2022-08-20T09:50:09.421154Z"
    },
    "papermill": {
     "duration": 1.671348,
     "end_time": "2022-08-20T09:50:09.426047",
     "exception": false,
     "start_time": "2022-08-20T09:50:07.754699",
     "status": "completed"
    },
    "tags": []
   },
   "outputs": [],
   "source": [
    "import pandas as pd\n",
    "import numpy as np\n",
    "import matplotlib.pyplot as plt\n",
    "import seaborn as sns\n",
    "\n",
    "#For modeling and preprocessing\n",
    "from sklearn.model_selection import train_test_split\n",
    "from sklearn.preprocessing import StandardScaler\n",
    "from sklearn.neighbors import KNeighborsClassifier\n",
    "from sklearn.metrics import confusion_matrix, accuracy_score"
   ]
  },
  {
   "cell_type": "code",
   "execution_count": 22,
   "id": "842377a4",
   "metadata": {},
   "outputs": [],
   "source": [
    "df = pd.read_csv('Social_Network_Ads.csv')"
   ]
  },
  {
   "cell_type": "code",
   "execution_count": 23,
   "id": "e1eb8780",
   "metadata": {
    "execution": {
     "iopub.execute_input": "2022-08-20T09:50:09.462484Z",
     "iopub.status.busy": "2022-08-20T09:50:09.462044Z",
     "iopub.status.idle": "2022-08-20T09:50:09.483374Z",
     "shell.execute_reply": "2022-08-20T09:50:09.482146Z"
    },
    "papermill": {
     "duration": 0.034204,
     "end_time": "2022-08-20T09:50:09.486168",
     "exception": false,
     "start_time": "2022-08-20T09:50:09.451964",
     "status": "completed"
    },
    "tags": []
   },
   "outputs": [
    {
     "data": {
      "text/html": [
       "<div>\n",
       "<style scoped>\n",
       "    .dataframe tbody tr th:only-of-type {\n",
       "        vertical-align: middle;\n",
       "    }\n",
       "\n",
       "    .dataframe tbody tr th {\n",
       "        vertical-align: top;\n",
       "    }\n",
       "\n",
       "    .dataframe thead th {\n",
       "        text-align: right;\n",
       "    }\n",
       "</style>\n",
       "<table border=\"1\" class=\"dataframe\">\n",
       "  <thead>\n",
       "    <tr style=\"text-align: right;\">\n",
       "      <th></th>\n",
       "      <th>User ID</th>\n",
       "      <th>Gender</th>\n",
       "      <th>Age</th>\n",
       "      <th>EstimatedSalary</th>\n",
       "      <th>Purchased</th>\n",
       "    </tr>\n",
       "  </thead>\n",
       "  <tbody>\n",
       "    <tr>\n",
       "      <th>0</th>\n",
       "      <td>15624510</td>\n",
       "      <td>Male</td>\n",
       "      <td>19</td>\n",
       "      <td>19000</td>\n",
       "      <td>0</td>\n",
       "    </tr>\n",
       "    <tr>\n",
       "      <th>1</th>\n",
       "      <td>15810944</td>\n",
       "      <td>Male</td>\n",
       "      <td>35</td>\n",
       "      <td>20000</td>\n",
       "      <td>0</td>\n",
       "    </tr>\n",
       "    <tr>\n",
       "      <th>2</th>\n",
       "      <td>15668575</td>\n",
       "      <td>Female</td>\n",
       "      <td>26</td>\n",
       "      <td>43000</td>\n",
       "      <td>0</td>\n",
       "    </tr>\n",
       "    <tr>\n",
       "      <th>3</th>\n",
       "      <td>15603246</td>\n",
       "      <td>Female</td>\n",
       "      <td>27</td>\n",
       "      <td>57000</td>\n",
       "      <td>0</td>\n",
       "    </tr>\n",
       "    <tr>\n",
       "      <th>4</th>\n",
       "      <td>15804002</td>\n",
       "      <td>Male</td>\n",
       "      <td>19</td>\n",
       "      <td>76000</td>\n",
       "      <td>0</td>\n",
       "    </tr>\n",
       "  </tbody>\n",
       "</table>\n",
       "</div>"
      ],
      "text/plain": [
       "    User ID  Gender  Age  EstimatedSalary  Purchased\n",
       "0  15624510    Male   19            19000          0\n",
       "1  15810944    Male   35            20000          0\n",
       "2  15668575  Female   26            43000          0\n",
       "3  15603246  Female   27            57000          0\n",
       "4  15804002    Male   19            76000          0"
      ]
     },
     "execution_count": 23,
     "metadata": {},
     "output_type": "execute_result"
    }
   ],
   "source": [
    "df.head()"
   ]
  },
  {
   "cell_type": "code",
   "execution_count": 24,
   "id": "331e3ede",
   "metadata": {
    "execution": {
     "iopub.execute_input": "2022-08-20T09:50:09.506187Z",
     "iopub.status.busy": "2022-08-20T09:50:09.505355Z",
     "iopub.status.idle": "2022-08-20T09:50:09.514862Z",
     "shell.execute_reply": "2022-08-20T09:50:09.513840Z"
    },
    "papermill": {
     "duration": 0.022206,
     "end_time": "2022-08-20T09:50:09.517206",
     "exception": false,
     "start_time": "2022-08-20T09:50:09.495000",
     "status": "completed"
    },
    "tags": []
   },
   "outputs": [
    {
     "data": {
      "text/plain": [
       "User ID            0\n",
       "Gender             0\n",
       "Age                0\n",
       "EstimatedSalary    0\n",
       "Purchased          0\n",
       "dtype: int64"
      ]
     },
     "execution_count": 24,
     "metadata": {},
     "output_type": "execute_result"
    }
   ],
   "source": [
    "#Are there any null values in the dataset\n",
    "df.isnull().sum()"
   ]
  },
  {
   "cell_type": "code",
   "execution_count": 25,
   "id": "5ddbed01",
   "metadata": {
    "execution": {
     "iopub.execute_input": "2022-08-20T09:50:09.536986Z",
     "iopub.status.busy": "2022-08-20T09:50:09.536188Z",
     "iopub.status.idle": "2022-08-20T09:50:09.551649Z",
     "shell.execute_reply": "2022-08-20T09:50:09.550540Z"
    },
    "papermill": {
     "duration": 0.028097,
     "end_time": "2022-08-20T09:50:09.554055",
     "exception": false,
     "start_time": "2022-08-20T09:50:09.525958",
     "status": "completed"
    },
    "tags": []
   },
   "outputs": [
    {
     "data": {
      "text/plain": [
       "0"
      ]
     },
     "execution_count": 25,
     "metadata": {},
     "output_type": "execute_result"
    }
   ],
   "source": [
    "#Are there any duplicated values in the dataset\n",
    "df.duplicated().sum()"
   ]
  },
  {
   "cell_type": "code",
   "execution_count": 26,
   "id": "2d72a359",
   "metadata": {
    "execution": {
     "iopub.execute_input": "2022-08-20T09:50:09.573571Z",
     "iopub.status.busy": "2022-08-20T09:50:09.573145Z",
     "iopub.status.idle": "2022-08-20T09:50:09.582181Z",
     "shell.execute_reply": "2022-08-20T09:50:09.581379Z"
    },
    "papermill": {
     "duration": 0.021749,
     "end_time": "2022-08-20T09:50:09.584681",
     "exception": false,
     "start_time": "2022-08-20T09:50:09.562932",
     "status": "completed"
    },
    "tags": []
   },
   "outputs": [],
   "source": [
    "#drop unnecessary columns\n",
    "df.drop(columns=['User ID'],inplace=True)"
   ]
  },
  {
   "cell_type": "code",
   "execution_count": 27,
   "id": "bbac3a65",
   "metadata": {
    "execution": {
     "iopub.execute_input": "2022-08-20T09:50:09.604441Z",
     "iopub.status.busy": "2022-08-20T09:50:09.604018Z",
     "iopub.status.idle": "2022-08-20T09:50:09.614978Z",
     "shell.execute_reply": "2022-08-20T09:50:09.613697Z"
    },
    "papermill": {
     "duration": 0.023867,
     "end_time": "2022-08-20T09:50:09.617452",
     "exception": false,
     "start_time": "2022-08-20T09:50:09.593585",
     "status": "completed"
    },
    "tags": []
   },
   "outputs": [
    {
     "data": {
      "text/html": [
       "<div>\n",
       "<style scoped>\n",
       "    .dataframe tbody tr th:only-of-type {\n",
       "        vertical-align: middle;\n",
       "    }\n",
       "\n",
       "    .dataframe tbody tr th {\n",
       "        vertical-align: top;\n",
       "    }\n",
       "\n",
       "    .dataframe thead th {\n",
       "        text-align: right;\n",
       "    }\n",
       "</style>\n",
       "<table border=\"1\" class=\"dataframe\">\n",
       "  <thead>\n",
       "    <tr style=\"text-align: right;\">\n",
       "      <th></th>\n",
       "      <th>Gender</th>\n",
       "      <th>Age</th>\n",
       "      <th>EstimatedSalary</th>\n",
       "      <th>Purchased</th>\n",
       "    </tr>\n",
       "  </thead>\n",
       "  <tbody>\n",
       "    <tr>\n",
       "      <th>0</th>\n",
       "      <td>Male</td>\n",
       "      <td>19</td>\n",
       "      <td>19000</td>\n",
       "      <td>0</td>\n",
       "    </tr>\n",
       "    <tr>\n",
       "      <th>1</th>\n",
       "      <td>Male</td>\n",
       "      <td>35</td>\n",
       "      <td>20000</td>\n",
       "      <td>0</td>\n",
       "    </tr>\n",
       "    <tr>\n",
       "      <th>2</th>\n",
       "      <td>Female</td>\n",
       "      <td>26</td>\n",
       "      <td>43000</td>\n",
       "      <td>0</td>\n",
       "    </tr>\n",
       "    <tr>\n",
       "      <th>3</th>\n",
       "      <td>Female</td>\n",
       "      <td>27</td>\n",
       "      <td>57000</td>\n",
       "      <td>0</td>\n",
       "    </tr>\n",
       "    <tr>\n",
       "      <th>4</th>\n",
       "      <td>Male</td>\n",
       "      <td>19</td>\n",
       "      <td>76000</td>\n",
       "      <td>0</td>\n",
       "    </tr>\n",
       "  </tbody>\n",
       "</table>\n",
       "</div>"
      ],
      "text/plain": [
       "   Gender  Age  EstimatedSalary  Purchased\n",
       "0    Male   19            19000          0\n",
       "1    Male   35            20000          0\n",
       "2  Female   26            43000          0\n",
       "3  Female   27            57000          0\n",
       "4    Male   19            76000          0"
      ]
     },
     "execution_count": 27,
     "metadata": {},
     "output_type": "execute_result"
    }
   ],
   "source": [
    "df.head()"
   ]
  },
  {
   "cell_type": "code",
   "execution_count": 28,
   "id": "6114f8e7",
   "metadata": {
    "execution": {
     "iopub.execute_input": "2022-08-20T09:50:09.638954Z",
     "iopub.status.busy": "2022-08-20T09:50:09.638572Z",
     "iopub.status.idle": "2022-08-20T09:50:09.891814Z",
     "shell.execute_reply": "2022-08-20T09:50:09.890784Z"
    },
    "papermill": {
     "duration": 0.26664,
     "end_time": "2022-08-20T09:50:09.894305",
     "exception": false,
     "start_time": "2022-08-20T09:50:09.627665",
     "status": "completed"
    },
    "tags": []
   },
   "outputs": [
    {
     "data": {
      "text/plain": [
       "Gender\n",
       "Female    204\n",
       "Male      196\n",
       "Name: count, dtype: int64"
      ]
     },
     "execution_count": 28,
     "metadata": {},
     "output_type": "execute_result"
    },
    {
     "data": {
      "image/png": "[encoded data removed]",
      "text/plain": [
       "<Figure size 640x480 with 1 Axes>"
      ]
     },
     "metadata": {},
     "output_type": "display_data"
    }
   ],
   "source": [
    "df.Gender.value_counts().plot(kind=\"barh\");\n",
    "df.Gender.value_counts()"
   ]
  },
  {
   "cell_type": "markdown",
   "id": "5dbd4f7f",
   "metadata": {
    "papermill": {
     "duration": 0.009011,
     "end_time": "2022-08-20T09:50:09.912868",
     "exception": false,
     "start_time": "2022-08-20T09:50:09.903857",
     "status": "completed"
    },
    "tags": []
   },
   "source": [
    "**Number of females are greater than that of males but the difference is not big**"
   ]
  },
  {
   "cell_type": "code",
   "execution_count": 29,
   "id": "d08d05e0",
   "metadata": {
    "execution": {
     "iopub.execute_input": "2022-08-20T09:50:09.933687Z",
     "iopub.status.busy": "2022-08-20T09:50:09.932826Z",
     "iopub.status.idle": "2022-08-20T09:50:10.251539Z",
     "shell.execute_reply": "2022-08-20T09:50:10.250363Z"
    },
    "papermill": {
     "duration": 0.331785,
     "end_time": "2022-08-20T09:50:10.253980",
     "exception": false,
     "start_time": "2022-08-20T09:50:09.922195",
     "status": "completed"
    },
    "tags": []
   },
   "outputs": [
    {
     "data": {
      "text/plain": [
       "<seaborn.axisgrid.FacetGrid at 0x7fcde109d3c0>"
      ]
     },
     "execution_count": 29,
     "metadata": {},
     "output_type": "execute_result"
    },
    {
     "data": {
      "image/png": "[encoded data removed]",
      "text/plain": [
       "<Figure size 500x500 with 1 Axes>"
      ]
     },
     "metadata": {},
     "output_type": "display_data"
    }
   ],
   "source": [
    "sns.displot(df.Age)"
   ]
  },
  {
   "cell_type": "code",
   "execution_count": 30,
   "id": "f9687f33",
   "metadata": {
    "execution": {
     "iopub.execute_input": "2022-08-20T09:50:10.276113Z",
     "iopub.status.busy": "2022-08-20T09:50:10.274968Z",
     "iopub.status.idle": "2022-08-20T09:50:10.287969Z",
     "shell.execute_reply": "2022-08-20T09:50:10.287044Z"
    },
    "papermill": {
     "duration": 0.026462,
     "end_time": "2022-08-20T09:50:10.290335",
     "exception": false,
     "start_time": "2022-08-20T09:50:10.263873",
     "status": "completed"
    },
    "tags": []
   },
   "outputs": [
    {
     "data": {
      "text/plain": [
       "count    400.000000\n",
       "mean      37.655000\n",
       "std       10.482877\n",
       "min       18.000000\n",
       "25%       29.750000\n",
       "50%       37.000000\n",
       "75%       46.000000\n",
       "max       60.000000\n",
       "Name: Age, dtype: float64"
      ]
     },
     "execution_count": 30,
     "metadata": {},
     "output_type": "execute_result"
    }
   ],
   "source": [
    "df.Age.describe()"
   ]
  },
  {
   "cell_type": "markdown",
   "id": "80b4b7d9",
   "metadata": {
    "papermill": {
     "duration": 0.010228,
     "end_time": "2022-08-20T09:50:10.310644",
     "exception": false,
     "start_time": "2022-08-20T09:50:10.300416",
     "status": "completed"
    },
    "tags": []
   },
   "source": [
    "**Ages are normally distributed around 37**"
   ]
  },
  {
   "cell_type": "code",
   "execution_count": 31,
   "id": "d4568364",
   "metadata": {
    "execution": {
     "iopub.execute_input": "2022-08-20T09:50:10.333694Z",
     "iopub.status.busy": "2022-08-20T09:50:10.332878Z",
     "iopub.status.idle": "2022-08-20T09:50:10.658900Z",
     "shell.execute_reply": "2022-08-20T09:50:10.657671Z"
    },
    "papermill": {
     "duration": 0.340477,
     "end_time": "2022-08-20T09:50:10.661607",
     "exception": false,
     "start_time": "2022-08-20T09:50:10.321130",
     "status": "completed"
    },
    "tags": []
   },
   "outputs": [
    {
     "data": {
      "text/plain": [
       "<seaborn.axisgrid.FacetGrid at 0x7fcde106ef20>"
      ]
     },
     "execution_count": 31,
     "metadata": {},
     "output_type": "execute_result"
    },
    {
     "data": {
      "image/png": "[encoded data removed]",
      "text/plain": [
       "<Figure size 500x500 with 1 Axes>"
      ]
     },
     "metadata": {},
     "output_type": "display_data"
    }
   ],
   "source": [
    "sns.displot(df.EstimatedSalary)"
   ]
  },
  {
   "cell_type": "code",
   "execution_count": 32,
   "id": "40b29781",
   "metadata": {
    "execution": {
     "iopub.execute_input": "2022-08-20T09:50:10.684242Z",
     "iopub.status.busy": "2022-08-20T09:50:10.683853Z",
     "iopub.status.idle": "2022-08-20T09:50:10.696533Z",
     "shell.execute_reply": "2022-08-20T09:50:10.695466Z"
    },
    "papermill": {
     "duration": 0.027392,
     "end_time": "2022-08-20T09:50:10.699182",
     "exception": false,
     "start_time": "2022-08-20T09:50:10.671790",
     "status": "completed"
    },
    "tags": []
   },
   "outputs": [
    {
     "data": {
      "text/plain": [
       "count       400.000000\n",
       "mean      69742.500000\n",
       "std       34096.960282\n",
       "min       15000.000000\n",
       "25%       43000.000000\n",
       "50%       70000.000000\n",
       "75%       88000.000000\n",
       "max      150000.000000\n",
       "Name: EstimatedSalary, dtype: float64"
      ]
     },
     "execution_count": 32,
     "metadata": {},
     "output_type": "execute_result"
    }
   ],
   "source": [
    "df.EstimatedSalary.describe()"
   ]
  },
  {
   "cell_type": "markdown",
   "id": "515ba7a4",
   "metadata": {
    "papermill": {
     "duration": 0.010267,
     "end_time": "2022-08-20T09:50:10.720041",
     "exception": false,
     "start_time": "2022-08-20T09:50:10.709774",
     "status": "completed"
    },
    "tags": []
   },
   "source": [
    "**it seems that the distribution is positvely skewed**"
   ]
  },
  {
   "cell_type": "code",
   "execution_count": 33,
   "id": "0cd0ea42",
   "metadata": {
    "execution": {
     "iopub.execute_input": "2022-08-20T09:50:10.742757Z",
     "iopub.status.busy": "2022-08-20T09:50:10.741997Z",
     "iopub.status.idle": "2022-08-20T09:50:10.959161Z",
     "shell.execute_reply": "2022-08-20T09:50:10.957680Z"
    },
    "papermill": {
     "duration": 0.231889,
     "end_time": "2022-08-20T09:50:10.962283",
     "exception": false,
     "start_time": "2022-08-20T09:50:10.730394",
     "status": "completed"
    },
    "tags": []
   },
   "outputs": [
    {
     "data": {
      "text/plain": [
       "<matplotlib.collections.PathCollection at 0x7fcde0e044c0>"
      ]
     },
     "execution_count": 33,
     "metadata": {},
     "output_type": "execute_result"
    },
    {
     "data": {
      "image/png": "[encoded data removed]",
      "text/plain": [
       "<Figure size 640x480 with 1 Axes>"
      ]
     },
     "metadata": {},
     "output_type": "display_data"
    }
   ],
   "source": [
    "#finding the relation between estimated salary and Age in dataset\n",
    "plt.scatter(df.Age, df.EstimatedSalary)"
   ]
  },
  {
   "cell_type": "markdown",
   "id": "3d979dc9",
   "metadata": {
    "papermill": {
     "duration": 0.010596,
     "end_time": "2022-08-20T09:50:10.984056",
     "exception": false,
     "start_time": "2022-08-20T09:50:10.973460",
     "status": "completed"
    },
    "tags": []
   },
   "source": [
    "**There is no correlation between Age and Estimated salary**"
   ]
  },
  {
   "cell_type": "code",
   "execution_count": 34,
   "id": "b4600185",
   "metadata": {
    "execution": {
     "iopub.execute_input": "2022-08-20T09:50:11.008282Z",
     "iopub.status.busy": "2022-08-20T09:50:11.007859Z",
     "iopub.status.idle": "2022-08-20T09:50:11.269460Z",
     "shell.execute_reply": "2022-08-20T09:50:11.268324Z"
    },
    "papermill": {
     "duration": 0.276437,
     "end_time": "2022-08-20T09:50:11.272016",
     "exception": false,
     "start_time": "2022-08-20T09:50:10.995579",
     "status": "completed"
    },
    "tags": []
   },
   "outputs": [
    {
     "data": {
      "text/plain": [
       "<Axes: xlabel='Gender', ylabel='Age'>"
      ]
     },
     "execution_count": 34,
     "metadata": {},
     "output_type": "execute_result"
    },
    {
     "data": {
      "image/png": "[encoded data removed]",
      "text/plain": [
       "<Figure size 640x480 with 1 Axes>"
      ]
     },
     "metadata": {},
     "output_type": "display_data"
    }
   ],
   "source": [
    "sns.boxplot(y='Age', x='Gender',data=df,hue='Purchased')"
   ]
  },
  {
   "cell_type": "markdown",
   "id": "362124bb",
   "metadata": {
    "papermill": {
     "duration": 0.010812,
     "end_time": "2022-08-20T09:50:11.294025",
     "exception": false,
     "start_time": "2022-08-20T09:50:11.283213",
     "status": "completed"
    },
    "tags": []
   },
   "source": [
    "**Older people(Males and Females) are more probable to purchase than younger people**"
   ]
  },
  {
   "cell_type": "code",
   "execution_count": 35,
   "id": "3b946f5f",
   "metadata": {
    "execution": {
     "iopub.execute_input": "2022-08-20T09:50:11.320095Z",
     "iopub.status.busy": "2022-08-20T09:50:11.319471Z",
     "iopub.status.idle": "2022-08-20T09:50:11.625586Z",
     "shell.execute_reply": "2022-08-20T09:50:11.624403Z"
    },
    "papermill": {
     "duration": 0.322977,
     "end_time": "2022-08-20T09:50:11.628207",
     "exception": false,
     "start_time": "2022-08-20T09:50:11.305230",
     "status": "completed"
    },
    "tags": []
   },
   "outputs": [
    {
     "data": {
      "text/plain": [
       "<Axes: xlabel='Gender', ylabel='EstimatedSalary'>"
      ]
     },
     "execution_count": 35,
     "metadata": {},
     "output_type": "execute_result"
    },
    {
     "data": {
      "image/png": "[encoded data removed]",
      "text/plain": [
       "<Figure size 640x480 with 1 Axes>"
      ]
     },
     "metadata": {},
     "output_type": "display_data"
    }
   ],
   "source": [
    "sns.boxplot(y='EstimatedSalary', x='Gender',data=df,hue='Purchased')"
   ]
  },
  {
   "cell_type": "markdown",
   "id": "ff4b77f3",
   "metadata": {
    "papermill": {
     "duration": 0.011324,
     "end_time": "2022-08-20T09:50:11.651125",
     "exception": false,
     "start_time": "2022-08-20T09:50:11.639801",
     "status": "completed"
    },
    "tags": []
   },
   "source": [
    "**EstimatedSalary Mean and median of females are greater than men and people with high salary most probable to purchase**"
   ]
  },
  {
   "cell_type": "markdown",
   "id": "055d455a",
   "metadata": {
    "papermill": {
     "duration": 0.011694,
     "end_time": "2022-08-20T09:50:11.674446",
     "exception": false,
     "start_time": "2022-08-20T09:50:11.662752",
     "status": "completed"
    },
    "tags": []
   },
   "source": [
    "# Modeling"
   ]
  },
  {
   "cell_type": "code",
   "execution_count": 36,
   "id": "0aa5f824",
   "metadata": {
    "execution": {
     "iopub.execute_input": "2022-08-20T09:50:11.699468Z",
     "iopub.status.busy": "2022-08-20T09:50:11.699040Z",
     "iopub.status.idle": "2022-08-20T09:50:11.710677Z",
     "shell.execute_reply": "2022-08-20T09:50:11.709409Z"
    },
    "papermill": {
     "duration": 0.026927,
     "end_time": "2022-08-20T09:50:11.713111",
     "exception": false,
     "start_time": "2022-08-20T09:50:11.686184",
     "status": "completed"
    },
    "tags": []
   },
   "outputs": [
    {
     "data": {
      "text/html": [
       "<div>\n",
       "<style scoped>\n",
       "    .dataframe tbody tr th:only-of-type {\n",
       "        vertical-align: middle;\n",
       "    }\n",
       "\n",
       "    .dataframe tbody tr th {\n",
       "        vertical-align: top;\n",
       "    }\n",
       "\n",
       "    .dataframe thead th {\n",
       "        text-align: right;\n",
       "    }\n",
       "</style>\n",
       "<table border=\"1\" class=\"dataframe\">\n",
       "  <thead>\n",
       "    <tr style=\"text-align: right;\">\n",
       "      <th></th>\n",
       "      <th>Gender</th>\n",
       "      <th>Age</th>\n",
       "      <th>EstimatedSalary</th>\n",
       "      <th>Purchased</th>\n",
       "    </tr>\n",
       "  </thead>\n",
       "  <tbody>\n",
       "    <tr>\n",
       "      <th>0</th>\n",
       "      <td>Male</td>\n",
       "      <td>19</td>\n",
       "      <td>19000</td>\n",
       "      <td>0</td>\n",
       "    </tr>\n",
       "    <tr>\n",
       "      <th>1</th>\n",
       "      <td>Male</td>\n",
       "      <td>35</td>\n",
       "      <td>20000</td>\n",
       "      <td>0</td>\n",
       "    </tr>\n",
       "    <tr>\n",
       "      <th>2</th>\n",
       "      <td>Female</td>\n",
       "      <td>26</td>\n",
       "      <td>43000</td>\n",
       "      <td>0</td>\n",
       "    </tr>\n",
       "    <tr>\n",
       "      <th>3</th>\n",
       "      <td>Female</td>\n",
       "      <td>27</td>\n",
       "      <td>57000</td>\n",
       "      <td>0</td>\n",
       "    </tr>\n",
       "    <tr>\n",
       "      <th>4</th>\n",
       "      <td>Male</td>\n",
       "      <td>19</td>\n",
       "      <td>76000</td>\n",
       "      <td>0</td>\n",
       "    </tr>\n",
       "  </tbody>\n",
       "</table>\n",
       "</div>"
      ],
      "text/plain": [
       "   Gender  Age  EstimatedSalary  Purchased\n",
       "0    Male   19            19000          0\n",
       "1    Male   35            20000          0\n",
       "2  Female   26            43000          0\n",
       "3  Female   27            57000          0\n",
       "4    Male   19            76000          0"
      ]
     },
     "execution_count": 36,
     "metadata": {},
     "output_type": "execute_result"
    }
   ],
   "source": [
    "df.head()"
   ]
  },
  {
   "cell_type": "code",
   "execution_count": 37,
   "id": "d05f1c13",
   "metadata": {
    "execution": {
     "iopub.execute_input": "2022-08-20T09:50:11.739233Z",
     "iopub.status.busy": "2022-08-20T09:50:11.738504Z",
     "iopub.status.idle": "2022-08-20T09:50:11.744864Z",
     "shell.execute_reply": "2022-08-20T09:50:11.743508Z"
    },
    "papermill": {
     "duration": 0.022266,
     "end_time": "2022-08-20T09:50:11.747356",
     "exception": false,
     "start_time": "2022-08-20T09:50:11.725090",
     "status": "completed"
    },
    "tags": []
   },
   "outputs": [],
   "source": [
    "X = df.iloc[:,:-1].values\n",
    "y = df.iloc[:,-1].values"
   ]
  },
  {
   "cell_type": "markdown",
   "id": "a829d4e2",
   "metadata": {
    "papermill": {
     "duration": 0.011883,
     "end_time": "2022-08-20T09:50:11.771544",
     "exception": false,
     "start_time": "2022-08-20T09:50:11.759661",
     "status": "completed"
    },
    "tags": []
   },
   "source": [
    "#### Encoding Categorical Variables\n"
   ]
  },
  {
   "cell_type": "code",
   "execution_count": 38,
   "id": "49651fc2",
   "metadata": {
    "execution": {
     "iopub.execute_input": "2022-08-20T09:50:11.797538Z",
     "iopub.status.busy": "2022-08-20T09:50:11.796770Z",
     "iopub.status.idle": "2022-08-20T09:50:11.802350Z",
     "shell.execute_reply": "2022-08-20T09:50:11.801428Z"
    },
    "papermill": {
     "duration": 0.021652,
     "end_time": "2022-08-20T09:50:11.805039",
     "exception": false,
     "start_time": "2022-08-20T09:50:11.783387",
     "status": "completed"
    },
    "tags": []
   },
   "outputs": [],
   "source": [
    "from sklearn.preprocessing import LabelEncoder\n",
    "le = LabelEncoder()\n",
    "X[:,0] = le.fit_transform(X[:,0])"
   ]
  },
  {
   "cell_type": "markdown",
   "id": "90144484",
   "metadata": {
    "papermill": {
     "duration": 0.011544,
     "end_time": "2022-08-20T09:50:11.828424",
     "exception": false,
     "start_time": "2022-08-20T09:50:11.816880",
     "status": "completed"
    },
    "tags": []
   },
   "source": [
    "#### Spliting data into training and testing\n",
    "\n"
   ]
  },
  {
   "cell_type": "code",
   "execution_count": 39,
   "id": "6efb295e",
   "metadata": {
    "execution": {
     "iopub.execute_input": "2022-08-20T09:50:11.854186Z",
     "iopub.status.busy": "2022-08-20T09:50:11.853486Z",
     "iopub.status.idle": "2022-08-20T09:50:11.858886Z",
     "shell.execute_reply": "2022-08-20T09:50:11.858042Z"
    },
    "papermill": {
     "duration": 0.021359,
     "end_time": "2022-08-20T09:50:11.861393",
     "exception": false,
     "start_time": "2022-08-20T09:50:11.840034",
     "status": "completed"
    },
    "tags": []
   },
   "outputs": [],
   "source": [
    " X_train, X_test, y_train, y_test = train_test_split(X, y, test_size=0.25, random_state=42)"
   ]
  },
  {
   "cell_type": "markdown",
   "id": "e3e4218e",
   "metadata": {
    "papermill": {
     "duration": 0.011451,
     "end_time": "2022-08-20T09:50:11.885202",
     "exception": false,
     "start_time": "2022-08-20T09:50:11.873751",
     "status": "completed"
    },
    "tags": []
   },
   "source": [
    "#### Feature Scaling\n",
    "\n"
   ]
  },
  {
   "cell_type": "code",
   "execution_count": 40,
   "id": "b5cdfd36",
   "metadata": {
    "execution": {
     "iopub.execute_input": "2022-08-20T09:50:11.911251Z",
     "iopub.status.busy": "2022-08-20T09:50:11.910407Z",
     "iopub.status.idle": "2022-08-20T09:50:12.164961Z",
     "shell.execute_reply": "2022-08-20T09:50:12.163598Z"
    },
    "papermill": {
     "duration": 0.270587,
     "end_time": "2022-08-20T09:50:12.167543",
     "exception": false,
     "start_time": "2022-08-20T09:50:11.896956",
     "status": "completed"
    },
    "tags": []
   },
   "outputs": [
    {
     "data": {
      "text/plain": [
       "<Axes: xlabel='Age', ylabel='Density'>"
      ]
     },
     "execution_count": 40,
     "metadata": {},
     "output_type": "execute_result"
    },
    {
     "data": {
      "image/png": "[encoded data removed]",
      "text/plain": [
       "<Figure size 640x480 with 1 Axes>"
      ]
     },
     "metadata": {},
     "output_type": "display_data"
    }
   ],
   "source": [
    "sns.kdeplot(df['Age'])\n",
    "sns.kdeplot(df['EstimatedSalary'])"
   ]
  },
  {
   "cell_type": "markdown",
   "id": "99fafde4",
   "metadata": {
    "papermill": {
     "duration": 0.011815,
     "end_time": "2022-08-20T09:50:12.191525",
     "exception": false,
     "start_time": "2022-08-20T09:50:12.179710",
     "status": "completed"
    },
    "tags": []
   },
   "source": [
    "**we can see here there is a big difference between the values. we need to scale this data.**"
   ]
  },
  {
   "cell_type": "code",
   "execution_count": 41,
   "id": "0458b1d9",
   "metadata": {
    "execution": {
     "iopub.execute_input": "2022-08-20T09:50:12.218079Z",
     "iopub.status.busy": "2022-08-20T09:50:12.217306Z",
     "iopub.status.idle": "2022-08-20T09:50:12.223822Z",
     "shell.execute_reply": "2022-08-20T09:50:12.222875Z"
    },
    "papermill": {
     "duration": 0.022826,
     "end_time": "2022-08-20T09:50:12.226544",
     "exception": false,
     "start_time": "2022-08-20T09:50:12.203718",
     "status": "completed"
    },
    "tags": []
   },
   "outputs": [],
   "source": [
    "ss = StandardScaler()\n",
    "X_train = ss.fit_transform(X_train)\n",
    "X_test = ss.transform(X_test)"
   ]
  },
  {
   "cell_type": "markdown",
   "id": "63fce728",
   "metadata": {
    "papermill": {
     "duration": 0.011869,
     "end_time": "2022-08-20T09:50:12.250787",
     "exception": false,
     "start_time": "2022-08-20T09:50:12.238918",
     "status": "completed"
    },
    "tags": []
   },
   "source": [
    "#### Training the Logistic Regression model on the Training set"
   ]
  },
  {
   "cell_type": "code",
   "execution_count": 42,
   "id": "6156d4a3",
   "metadata": {
    "execution": {
     "iopub.execute_input": "2022-08-20T09:50:12.277260Z",
     "iopub.status.busy": "2022-08-20T09:50:12.276562Z",
     "iopub.status.idle": "2022-08-20T09:50:12.281186Z",
     "shell.execute_reply": "2022-08-20T09:50:12.279952Z"
    },
    "papermill": {
     "duration": 0.020917,
     "end_time": "2022-08-20T09:50:12.283893",
     "exception": false,
     "start_time": "2022-08-20T09:50:12.262976",
     "status": "completed"
    },
    "tags": []
   },
   "outputs": [],
   "source": [
    "knn_model = KNeighborsClassifier()"
   ]
  },
  {
   "cell_type": "code",
   "execution_count": 43,
   "id": "b388d1ed",
   "metadata": {
    "execution": {
     "iopub.execute_input": "2022-08-20T09:50:12.310164Z",
     "iopub.status.busy": "2022-08-20T09:50:12.309661Z",
     "iopub.status.idle": "2022-08-20T09:50:12.321591Z",
     "shell.execute_reply": "2022-08-20T09:50:12.320301Z"
    },
    "papermill": {
     "duration": 0.028612,
     "end_time": "2022-08-20T09:50:12.324600",
     "exception": false,
     "start_time": "2022-08-20T09:50:12.295988",
     "status": "completed"
    },
    "tags": []
   },
   "outputs": [
    {
     "data": {
      "text/html": [
       "<style>#sk-container-id-1 {color: black;background-color: white;}#sk-container-id-1 pre{padding: 0;}#sk-container-id-1 div.sk-toggleable {background-color: white;}#sk-container-id-1 label.sk-toggleable__label {cursor: pointer;display: block;width: 100%;margin-bottom: 0;padding: 0.3em;box-sizing: border-box;text-align: center;}#sk-container-id-1 label.sk-toggleable__label-arrow:before {content: \"▸\";float: left;margin-right: 0.25em;color: #696969;}#sk-container-id-1 label.sk-toggleable__label-arrow:hover:before {color: black;}#sk-container-id-1 div.sk-estimator:hover label.sk-toggleable__label-arrow:before {color: black;}#sk-container-id-1 div.sk-toggleable__content {max-height: 0;max-width: 0;overflow: hidden;text-align: left;background-color: #f0f8ff;}#sk-container-id-1 div.sk-toggleable__content pre {margin: 0.2em;color: black;border-radius: 0.25em;background-color: #f0f8ff;}#sk-container-id-1 input.sk-toggleable__control:checked~div.sk-toggleable__content {max-height: 200px;max-width: 100%;overflow: auto;}#sk-container-id-1 input.sk-toggleable__control:checked~label.sk-toggleable__label-arrow:before {content: \"▾\";}#sk-container-id-1 div.sk-estimator input.sk-toggleable__control:checked~label.sk-toggleable__label {background-color: #d4ebff;}#sk-container-id-1 div.sk-label input.sk-toggleable__control:checked~label.sk-toggleable__label {background-color: #d4ebff;}#sk-container-id-1 input.sk-hidden--visually {border: 0;clip: rect(1px 1px 1px 1px);clip: rect(1px, 1px, 1px, 1px);height: 1px;margin: -1px;overflow: hidden;padding: 0;position: absolute;width: 1px;}#sk-container-id-1 div.sk-estimator {font-family: monospace;background-color: #f0f8ff;border: 1px dotted black;border-radius: 0.25em;box-sizing: border-box;margin-bottom: 0.5em;}#sk-container-id-1 div.sk-estimator:hover {background-color: #d4ebff;}#sk-container-id-1 div.sk-parallel-item::after {content: \"\";width: 100%;border-bottom: 1px solid gray;flex-grow: 1;}#sk-container-id-1 div.sk-label:hover label.sk-toggleable__label {background-color: #d4ebff;}#sk-container-id-1 div.sk-serial::before {content: \"\";position: absolute;border-left: 1px solid gray;box-sizing: border-box;top: 0;bottom: 0;left: 50%;z-index: 0;}#sk-container-id-1 div.sk-serial {display: flex;flex-direction: column;align-items: center;background-color: white;padding-right: 0.2em;padding-left: 0.2em;position: relative;}#sk-container-id-1 div.sk-item {position: relative;z-index: 1;}#sk-container-id-1 div.sk-parallel {display: flex;align-items: stretch;justify-content: center;background-color: white;position: relative;}#sk-container-id-1 div.sk-item::before, #sk-container-id-1 div.sk-parallel-item::before {content: \"\";position: absolute;border-left: 1px solid gray;box-sizing: border-box;top: 0;bottom: 0;left: 50%;z-index: -1;}#sk-container-id-1 div.sk-parallel-item {display: flex;flex-direction: column;z-index: 1;position: relative;background-color: white;}#sk-container-id-1 div.sk-parallel-item:first-child::after {align-self: flex-end;width: 50%;}#sk-container-id-1 div.sk-parallel-item:last-child::after {align-self: flex-start;width: 50%;}#sk-container-id-1 div.sk-parallel-item:only-child::after {width: 0;}#sk-container-id-1 div.sk-dashed-wrapped {border: 1px dashed gray;margin: 0 0.4em 0.5em 0.4em;box-sizing: border-box;padding-bottom: 0.4em;background-color: white;}#sk-container-id-1 div.sk-label label {font-family: monospace;font-weight: bold;display: inline-block;line-height: 1.2em;}#sk-container-id-1 div.sk-label-container {text-align: center;}#sk-container-id-1 div.sk-container {/* jupyter's `normalize.less` sets `[hidden] { display: none; }` but bootstrap.min.css set `[hidden] { display: none !important; }` so we also need the `!important` here to be able to override the default hidden behavior on the sphinx rendered scikit-learn.org. See: https://github.com/scikit-learn/scikit-learn/issues/21755 */display: inline-block !important;position: relative;}#sk-container-id-1 div.sk-text-repr-fallback {display: none;}</style><div id=\"sk-container-id-1\" class=\"sk-top-container\"><div class=\"sk-text-repr-fallback\"><pre>KNeighborsClassifier()</pre><b>In a Jupyter environment, please rerun this cell to show the HTML representation or trust the notebook. <br />On GitHub, the HTML representation is unable to render, please try loading this page with nbviewer.org.</b></div><div class=\"sk-container\" hidden><div class=\"sk-item\"><div class=\"sk-estimator sk-toggleable\"><input class=\"sk-toggleable__control sk-hidden--visually\" id=\"sk-estimator-id-1\" type=\"checkbox\" checked><label for=\"sk-estimator-id-1\" class=\"sk-toggleable__label sk-toggleable__label-arrow\">KNeighborsClassifier</label><div class=\"sk-toggleable__content\"><pre>KNeighborsClassifier()</pre></div></div></div></div></div>"
      ],
      "text/plain": [
       "KNeighborsClassifier()"
      ]
     },
     "execution_count": 43,
     "metadata": {},
     "output_type": "execute_result"
    }
   ],
   "source": [
    "knn_model.fit(X_train, y_train)"
   ]
  },
  {
   "cell_type": "code",
   "execution_count": 44,
   "id": "c0febeff",
   "metadata": {
    "execution": {
     "iopub.execute_input": "2022-08-20T09:50:12.351715Z",
     "iopub.status.busy": "2022-08-20T09:50:12.350529Z",
     "iopub.status.idle": "2022-08-20T09:50:12.359872Z",
     "shell.execute_reply": "2022-08-20T09:50:12.358987Z"
    },
    "papermill": {
     "duration": 0.025473,
     "end_time": "2022-08-20T09:50:12.362376",
     "exception": false,
     "start_time": "2022-08-20T09:50:12.336903",
     "status": "completed"
    },
    "tags": []
   },
   "outputs": [],
   "source": [
    "y_pred = knn_model.predict(X_test)"
   ]
  },
  {
   "cell_type": "code",
   "execution_count": 45,
   "id": "f5e3021e",
   "metadata": {
    "execution": {
     "iopub.execute_input": "2022-08-20T09:50:12.388916Z",
     "iopub.status.busy": "2022-08-20T09:50:12.388254Z",
     "iopub.status.idle": "2022-08-20T09:50:12.404535Z",
     "shell.execute_reply": "2022-08-20T09:50:12.403279Z"
    },
    "papermill": {
     "duration": 0.032495,
     "end_time": "2022-08-20T09:50:12.406917",
     "exception": false,
     "start_time": "2022-08-20T09:50:12.374422",
     "status": "completed"
    },
    "tags": []
   },
   "outputs": [
    {
     "data": {
      "text/plain": [
       "0.9066666666666666"
      ]
     },
     "execution_count": 45,
     "metadata": {},
     "output_type": "execute_result"
    }
   ],
   "source": [
    "#training score\n",
    "knn_model.score(X_train, y_train)"
   ]
  },
  {
   "cell_type": "code",
   "execution_count": 46,
   "id": "5047a6e5",
   "metadata": {
    "execution": {
     "iopub.execute_input": "2022-08-20T09:50:12.433478Z",
     "iopub.status.busy": "2022-08-20T09:50:12.432765Z",
     "iopub.status.idle": "2022-08-20T09:50:12.443326Z",
     "shell.execute_reply": "2022-08-20T09:50:12.442502Z"
    },
    "papermill": {
     "duration": 0.026756,
     "end_time": "2022-08-20T09:50:12.445751",
     "exception": false,
     "start_time": "2022-08-20T09:50:12.418995",
     "status": "completed"
    },
    "tags": []
   },
   "outputs": [
    {
     "data": {
      "text/plain": [
       "0.92"
      ]
     },
     "execution_count": 46,
     "metadata": {},
     "output_type": "execute_result"
    }
   ],
   "source": [
    "#testing score\n",
    "knn_model.score(X_test, y_test)"
   ]
  },
  {
   "cell_type": "code",
   "execution_count": 47,
   "id": "9d436a2a",
   "metadata": {
    "execution": {
     "iopub.execute_input": "2022-08-20T09:50:12.473081Z",
     "iopub.status.busy": "2022-08-20T09:50:12.472445Z",
     "iopub.status.idle": "2022-08-20T09:50:12.478967Z",
     "shell.execute_reply": "2022-08-20T09:50:12.477712Z"
    },
    "papermill": {
     "duration": 0.022848,
     "end_time": "2022-08-20T09:50:12.481244",
     "exception": false,
     "start_time": "2022-08-20T09:50:12.458396",
     "status": "completed"
    },
    "tags": []
   },
   "outputs": [
    {
     "data": {
      "text/plain": [
       "0.92"
      ]
     },
     "execution_count": 47,
     "metadata": {},
     "output_type": "execute_result"
    }
   ],
   "source": [
    "#overall accuracy score\n",
    "accuracy_score(y_test, y_pred)"
   ]
  },
  {
   "cell_type": "code",
   "execution_count": null,
   "id": "e3ce66ec",
   "metadata": {
    "papermill": {
     "duration": 0.013335,
     "end_time": "2022-08-20T09:50:12.508165",
     "exception": false,
     "start_time": "2022-08-20T09:50:12.494830",
     "status": "completed"
    },
    "tags": []
   },
   "outputs": [],
   "source": []
  }
 ],
 "metadata": {
  "kernelspec": {
   "display_name": "Python 3 (ipykernel)",
   "language": "python",
   "name": "python3"
  },
  "papermill": {
   "default_parameters": {},
   "duration": 15.314038,
   "end_time": "2022-08-20T09:50:13.344713",
   "environment_variables": {},
   "exception": null,
   "input_path": "__notebook__.ipynb",
   "output_path": "__notebook__.ipynb",
   "parameters": {},
   "start_time": "2022-08-20T09:49:58.030675",
   "version": "2.3.4"
  }
 },
 "nbformat": 4,
 "nbformat_minor": 5
}
