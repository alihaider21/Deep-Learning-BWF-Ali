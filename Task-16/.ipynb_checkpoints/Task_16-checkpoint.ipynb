{
 "cells": [
  {
   "cell_type": "code",
   "execution_count": 1,
   "id": "4f010e56-e542-446a-b5dc-b63e06664a13",
   "metadata": {},
   "outputs": [],
   "source": [
    "import numpy as np\n",
    "import pandas as pd"
   ]
  },
  {
   "cell_type": "code",
   "execution_count": 2,
   "id": "9db8c500-2002-408c-b3cd-eaa4941444a3",
   "metadata": {},
   "outputs": [],
   "source": [
    "#1st dataset\n",
    "df1 = pd.DataFrame({\n",
    "    'id': [1, 2, 3, 4, 5],\n",
    "    'name': ['John', 'Emily', 'Michael', 'Amy', 'David'],\n",
    "    'age': [25, 30, 27, 22, 35]\n",
    "})"
   ]
  },
  {
   "cell_type": "code",
   "execution_count": 3,
   "id": "fcfd9f01-6e0b-4e3d-9057-e822a67902fa",
   "metadata": {},
   "outputs": [],
   "source": [
    "#2nd datasets\n",
    "df2 = pd.DataFrame({\n",
    "    'id': [1, 2, 3, 4, 5],\n",
    "    'country': ['USA', 'Canada', 'Germany', 'France', 'Japan'],\n",
    "    'salary': [50000, 60000, 55000, 45000, 70000]\n",
    "})"
   ]
  },
  {
   "cell_type": "code",
   "execution_count": 4,
   "id": "0a2433a8-8bdb-4ba4-8da6-ccc09055b5ae",
   "metadata": {},
   "outputs": [],
   "source": [
    "#3rd dataset\n",
    "df3 = pd.DataFrame({\n",
    "    'id': [1, 2, 3, 4, 5],\n",
    "    'gender': ['Male', 'Female', 'Male', 'Female', 'Male'],\n",
    "    'occupation': ['Engineer', 'Doctor', 'Teacher', 'Designer', 'Programmer']\n",
    "})"
   ]
  },
  {
   "cell_type": "markdown",
   "id": "fd453611-1911-4ea1-8e01-53d95e6cf52e",
   "metadata": {},
   "source": [
    "#### Merge two datasets (df1 and df2) based on the 'id' column, and save the result as a new DataFrame called 'df_merged'. Then, print the merged DataFrame."
   ]
  },
  {
   "cell_type": "code",
   "execution_count": 5,
   "id": "f553c806-0a90-4237-9891-c7656bd1afbc",
   "metadata": {},
   "outputs": [
    {
     "name": "stdout",
     "output_type": "stream",
     "text": [
      "   id     name  age  country  salary\n",
      "0   1     John   25      USA   50000\n",
      "1   2    Emily   30   Canada   60000\n",
      "2   3  Michael   27  Germany   55000\n",
      "3   4      Amy   22   France   45000\n",
      "4   5    David   35    Japan   70000\n"
     ]
    }
   ],
   "source": [
    "# Merge the datasets based on the 'id' column\n",
    "merged_df = pd.merge(df1, df2, on='id')\n",
    "\n",
    "# Print the merged dataset\n",
    "print(merged_df)"
   ]
  },
  {
   "cell_type": "code",
   "execution_count": 6,
   "id": "9937bef3-6535-427d-aef2-116176b609c8",
   "metadata": {},
   "outputs": [],
   "source": [
    "df_revenue = pd.DataFrame({\n",
    "    'date': ['2022-01-01', '2022-01-01', '2022-01-01', '2022-01-02', '2022-01-02', '2022-01-02', '2022-01-03', '2022-01-03', '2022-01-03'],\n",
    "    'product': ['Product A', 'Product B', 'Product C', 'Product A', 'Product B', 'Product C', 'Product A', 'Product B', 'Product C'],\n",
    "    'revenue': [10000, 15000, 20000, 8000, 12000, 18000, 11000, 13000, 19000]\n",
    "})"
   ]
  },
  {
   "cell_type": "markdown",
   "id": "60df482e-5bae-4ef5-8bd6-c9b81dc3201f",
   "metadata": {},
   "source": [
    "#### Reshape the revenue data so that the 'date' column becomes the index, the 'product' column becomes the columns, and the 'revenue' column becomes the values. Save the result as a new DataFrame called 'df_pivot'. Then, print the pivoted DataFrame"
   ]
  },
  {
   "cell_type": "code",
   "execution_count": 7,
   "id": "3cb30fb4-1f2e-4415-bddd-8ad4b6868ff3",
   "metadata": {},
   "outputs": [
    {
     "name": "stdout",
     "output_type": "stream",
     "text": [
      "product     Product A  Product B  Product C\n",
      "date                                       \n",
      "2022-01-01      10000      15000      20000\n",
      "2022-01-02       8000      12000      18000\n",
      "2022-01-03      11000      13000      19000\n"
     ]
    }
   ],
   "source": [
    "# Reshape the dataset\n",
    "reshaped_df = df_revenue.pivot(index='date', columns='product', values='revenue')\n",
    "\n",
    "# Print the reshaped dataset\n",
    "print(reshaped_df)"
   ]
  },
  {
   "cell_type": "code",
   "execution_count": 8,
   "id": "583a31fc-6523-4861-bff4-654945526e04",
   "metadata": {},
   "outputs": [
    {
     "name": "stdout",
     "output_type": "stream",
     "text": [
      "   id     name  age  country  salary  gender  occupation\n",
      "0   1     John   25      USA   50000    Male    Engineer\n",
      "1   2    Emily   30   Canada   60000  Female      Doctor\n",
      "2   3  Michael   27  Germany   55000    Male     Teacher\n",
      "3   4      Amy   22   France   45000  Female    Designer\n",
      "4   5    David   35    Japan   70000    Male  Programmer\n"
     ]
    }
   ],
   "source": [
    "# Merge the datasets based on the 'id' column\n",
    "merged_df = pd.merge(df1, df2, on='id')\n",
    "merged_df = pd.merge(merged_df, df3, on='id')\n",
    "\n",
    "# Print the merged dataset\n",
    "print(merged_df)"
   ]
  },
  {
   "cell_type": "code",
   "execution_count": null,
   "id": "1f7d145e-1549-42bd-93cd-b33bc95a9254",
   "metadata": {},
   "outputs": [],
   "source": []
  }
 ],
 "metadata": {
  "kernelspec": {
   "display_name": "Python 3 (ipykernel)",
   "language": "python",
   "name": "python3"
  },
  "language_info": {
   "codemirror_mode": {
    "name": "ipython",
    "version": 3
   },
   "file_extension": ".py",
   "mimetype": "text/x-python",
   "name": "python",
   "nbconvert_exporter": "python",
   "pygments_lexer": "ipython3",
   "version": "3.9.12"
  }
 },
 "nbformat": 4,
 "nbformat_minor": 5
}
