{
  "nbformat": 4,
  "nbformat_minor": 0,
  "metadata": {
    "colab": {
      "provenance": []
    },
    "kernelspec": {
      "name": "python3",
      "display_name": "Python 3"
    },
    "language_info": {
      "name": "python"
    }
  },
  "cells": [
    {
      "cell_type": "code",
      "execution_count": 1,
      "metadata": {
        "colab": {
          "base_uri": "https://localhost:8080/"
        },
        "id": "-xxrsdx6PlKQ",
        "outputId": "26be238c-7acc-42a3-ba10-12cf3c912701"
      },
      "outputs": [
        {
          "output_type": "stream",
          "name": "stdout",
          "text": [
            "Downloading data from https://storage.googleapis.com/tensorflow/tf-keras-datasets/imdb.npz\n",
            "17464789/17464789 [==============================] - 0s 0us/step\n"
          ]
        }
      ],
      "source": [
        "from tensorflow.keras.datasets import imdb\n",
        "(train_data, train_labels), _ = imdb.load_data(num_words=10000)"
      ]
    },
    {
      "cell_type": "code",
      "source": [
        "import numpy as  np\n",
        "from tensorflow import keras\n",
        "from tensorflow.keras import layers"
      ],
      "metadata": {
        "id": "wuHgn-5fPxnA"
      },
      "execution_count": 7,
      "outputs": []
    },
    {
      "cell_type": "code",
      "source": [
        "def vectorize_sequences(sequences, dimension=10000):\n",
        "    results = np.zeros((len(sequences), dimension))\n",
        "    for i, sequence in enumerate(sequences):\n",
        "        results[i, sequence] = 1.\n",
        "    return results"
      ],
      "metadata": {
        "id": "47saGZrzPmFQ"
      },
      "execution_count": 2,
      "outputs": []
    },
    {
      "cell_type": "code",
      "source": [
        "train_data = vectorize_sequences(train_data)"
      ],
      "metadata": {
        "id": "q-ZREUzWPqxT"
      },
      "execution_count": 5,
      "outputs": []
    },
    {
      "cell_type": "code",
      "source": [
        "model = keras.Sequential([\n",
        " layers.Dense(16, activation=\"relu\"),\n",
        " layers.Dense(16, activation=\"relu\"),\n",
        " layers.Dense(1, activation=\"sigmoid\")\n",
        "])"
      ],
      "metadata": {
        "id": "N9WlXL3zPtm4"
      },
      "execution_count": 8,
      "outputs": []
    },
    {
      "cell_type": "code",
      "source": [
        "model.compile(optimizer=\"rmsprop\",\n",
        " loss=\"binary_crossentropy\",\n",
        " metrics=[\"accuracy\"])"
      ],
      "metadata": {
        "id": "43GfPQwQPwfs"
      },
      "execution_count": 9,
      "outputs": []
    },
    {
      "cell_type": "code",
      "source": [
        "history_original = model.fit(train_data, train_labels,\n",
        " epochs=20, batch_size=512, validation_split=0.4)"
      ],
      "metadata": {
        "colab": {
          "base_uri": "https://localhost:8080/"
        },
        "id": "9RpWXPd7QRLI",
        "outputId": "0ef1a991-e151-4785-a22b-1af9bdc2d3dc"
      },
      "execution_count": 10,
      "outputs": [
        {
          "output_type": "stream",
          "name": "stdout",
          "text": [
            "Epoch 1/20\n",
            "30/30 [==============================] - 3s 66ms/step - loss: 0.5483 - accuracy: 0.7736 - val_loss: 0.4141 - val_accuracy: 0.8643\n",
            "Epoch 2/20\n",
            "30/30 [==============================] - 1s 34ms/step - loss: 0.3435 - accuracy: 0.8869 - val_loss: 0.3364 - val_accuracy: 0.8684\n",
            "Epoch 3/20\n",
            "30/30 [==============================] - 1s 36ms/step - loss: 0.2568 - accuracy: 0.9140 - val_loss: 0.2882 - val_accuracy: 0.8872\n",
            "Epoch 4/20\n",
            "30/30 [==============================] - 1s 39ms/step - loss: 0.2092 - accuracy: 0.9286 - val_loss: 0.2757 - val_accuracy: 0.8909\n",
            "Epoch 5/20\n",
            "30/30 [==============================] - 1s 47ms/step - loss: 0.1772 - accuracy: 0.9400 - val_loss: 0.2854 - val_accuracy: 0.8855\n",
            "Epoch 6/20\n",
            "30/30 [==============================] - 2s 64ms/step - loss: 0.1526 - accuracy: 0.9487 - val_loss: 0.2869 - val_accuracy: 0.8880\n",
            "Epoch 7/20\n",
            "30/30 [==============================] - 1s 38ms/step - loss: 0.1302 - accuracy: 0.9593 - val_loss: 0.3154 - val_accuracy: 0.8775\n",
            "Epoch 8/20\n",
            "30/30 [==============================] - 1s 41ms/step - loss: 0.1130 - accuracy: 0.9658 - val_loss: 0.3100 - val_accuracy: 0.8818\n",
            "Epoch 9/20\n",
            "30/30 [==============================] - 1s 37ms/step - loss: 0.1004 - accuracy: 0.9701 - val_loss: 0.3376 - val_accuracy: 0.8770\n",
            "Epoch 10/20\n",
            "30/30 [==============================] - 1s 49ms/step - loss: 0.0900 - accuracy: 0.9743 - val_loss: 0.3397 - val_accuracy: 0.8817\n",
            "Epoch 11/20\n",
            "30/30 [==============================] - 1s 37ms/step - loss: 0.0785 - accuracy: 0.9781 - val_loss: 0.3499 - val_accuracy: 0.8818\n",
            "Epoch 12/20\n",
            "30/30 [==============================] - 1s 38ms/step - loss: 0.0662 - accuracy: 0.9844 - val_loss: 0.3838 - val_accuracy: 0.8751\n",
            "Epoch 13/20\n",
            "30/30 [==============================] - 1s 50ms/step - loss: 0.0608 - accuracy: 0.9840 - val_loss: 0.3851 - val_accuracy: 0.8796\n",
            "Epoch 14/20\n",
            "30/30 [==============================] - 1s 49ms/step - loss: 0.0503 - accuracy: 0.9887 - val_loss: 0.4099 - val_accuracy: 0.8777\n",
            "Epoch 15/20\n",
            "30/30 [==============================] - 2s 69ms/step - loss: 0.0432 - accuracy: 0.9905 - val_loss: 0.4364 - val_accuracy: 0.8728\n",
            "Epoch 16/20\n",
            "30/30 [==============================] - 1s 42ms/step - loss: 0.0401 - accuracy: 0.9902 - val_loss: 0.4783 - val_accuracy: 0.8721\n",
            "Epoch 17/20\n",
            "30/30 [==============================] - 1s 38ms/step - loss: 0.0331 - accuracy: 0.9935 - val_loss: 0.4759 - val_accuracy: 0.8734\n",
            "Epoch 18/20\n",
            "30/30 [==============================] - 1s 39ms/step - loss: 0.0285 - accuracy: 0.9944 - val_loss: 0.5073 - val_accuracy: 0.8725\n",
            "Epoch 19/20\n",
            "30/30 [==============================] - 1s 45ms/step - loss: 0.0228 - accuracy: 0.9966 - val_loss: 0.5261 - val_accuracy: 0.8706\n",
            "Epoch 20/20\n",
            "30/30 [==============================] - 1s 36ms/step - loss: 0.0197 - accuracy: 0.9973 - val_loss: 0.5625 - val_accuracy: 0.8688\n"
          ]
        }
      ]
    },
    {
      "cell_type": "code",
      "source": [
        "model = keras.Sequential([\n",
        " layers.Dense(4, activation=\"relu\"),\n",
        " layers.Dense(4, activation=\"relu\"),\n",
        " layers.Dense(1, activation=\"sigmoid\")\n",
        "])"
      ],
      "metadata": {
        "id": "aXqdFC8qQSs_"
      },
      "execution_count": 11,
      "outputs": []
    },
    {
      "cell_type": "code",
      "source": [
        "model.compile(optimizer=\"rmsprop\",\n",
        " loss=\"binary_crossentropy\",\n",
        " metrics=[\"accuracy\"])"
      ],
      "metadata": {
        "id": "yTUctvPYQVz3"
      },
      "execution_count": 12,
      "outputs": []
    },
    {
      "cell_type": "code",
      "source": [
        "history_smaller_model = model.fit(\n",
        " train_data, train_labels,\n",
        " epochs=20, batch_size=512, validation_split=0.4)\n"
      ],
      "metadata": {
        "colab": {
          "base_uri": "https://localhost:8080/"
        },
        "id": "P0gRbRmzQX0g",
        "outputId": "b9fa3381-edbc-4099-d818-0c7efd935e73"
      },
      "execution_count": 13,
      "outputs": [
        {
          "output_type": "stream",
          "name": "stdout",
          "text": [
            "Epoch 1/20\n",
            "30/30 [==============================] - 4s 97ms/step - loss: 0.6080 - accuracy: 0.7421 - val_loss: 0.5282 - val_accuracy: 0.8157\n",
            "Epoch 2/20\n",
            "30/30 [==============================] - 1s 37ms/step - loss: 0.4630 - accuracy: 0.8752 - val_loss: 0.4292 - val_accuracy: 0.8723\n",
            "Epoch 3/20\n",
            "30/30 [==============================] - 1s 38ms/step - loss: 0.3720 - accuracy: 0.8971 - val_loss: 0.3711 - val_accuracy: 0.8760\n",
            "Epoch 4/20\n",
            "30/30 [==============================] - 1s 40ms/step - loss: 0.3090 - accuracy: 0.9115 - val_loss: 0.3292 - val_accuracy: 0.8841\n",
            "Epoch 5/20\n",
            "30/30 [==============================] - 1s 36ms/step - loss: 0.2644 - accuracy: 0.9215 - val_loss: 0.3051 - val_accuracy: 0.8886\n",
            "Epoch 6/20\n",
            "30/30 [==============================] - 1s 35ms/step - loss: 0.2317 - accuracy: 0.9317 - val_loss: 0.2921 - val_accuracy: 0.8875\n",
            "Epoch 7/20\n",
            "30/30 [==============================] - 1s 34ms/step - loss: 0.2063 - accuracy: 0.9385 - val_loss: 0.2807 - val_accuracy: 0.8915\n",
            "Epoch 8/20\n",
            "30/30 [==============================] - 1s 36ms/step - loss: 0.1849 - accuracy: 0.9447 - val_loss: 0.2791 - val_accuracy: 0.8899\n",
            "Epoch 9/20\n",
            "30/30 [==============================] - 1s 38ms/step - loss: 0.1675 - accuracy: 0.9500 - val_loss: 0.2757 - val_accuracy: 0.8896\n",
            "Epoch 10/20\n",
            "30/30 [==============================] - 1s 35ms/step - loss: 0.1525 - accuracy: 0.9564 - val_loss: 0.2760 - val_accuracy: 0.8898\n",
            "Epoch 11/20\n",
            "30/30 [==============================] - 2s 58ms/step - loss: 0.1399 - accuracy: 0.9597 - val_loss: 0.2769 - val_accuracy: 0.8887\n",
            "Epoch 12/20\n",
            "30/30 [==============================] - 1s 47ms/step - loss: 0.1281 - accuracy: 0.9627 - val_loss: 0.2893 - val_accuracy: 0.8853\n",
            "Epoch 13/20\n",
            "30/30 [==============================] - 1s 34ms/step - loss: 0.1192 - accuracy: 0.9674 - val_loss: 0.2854 - val_accuracy: 0.8883\n",
            "Epoch 14/20\n",
            "30/30 [==============================] - 1s 37ms/step - loss: 0.1091 - accuracy: 0.9703 - val_loss: 0.2933 - val_accuracy: 0.8847\n",
            "Epoch 15/20\n",
            "30/30 [==============================] - 1s 38ms/step - loss: 0.1004 - accuracy: 0.9740 - val_loss: 0.3052 - val_accuracy: 0.8817\n",
            "Epoch 16/20\n",
            "30/30 [==============================] - 1s 37ms/step - loss: 0.0931 - accuracy: 0.9757 - val_loss: 0.3058 - val_accuracy: 0.8856\n",
            "Epoch 17/20\n",
            "30/30 [==============================] - 1s 35ms/step - loss: 0.0860 - accuracy: 0.9787 - val_loss: 0.3146 - val_accuracy: 0.8830\n",
            "Epoch 18/20\n",
            "30/30 [==============================] - 1s 36ms/step - loss: 0.0798 - accuracy: 0.9810 - val_loss: 0.3281 - val_accuracy: 0.8805\n",
            "Epoch 19/20\n",
            "30/30 [==============================] - 1s 34ms/step - loss: 0.0735 - accuracy: 0.9837 - val_loss: 0.3315 - val_accuracy: 0.8827\n",
            "Epoch 20/20\n",
            "30/30 [==============================] - 1s 36ms/step - loss: 0.0681 - accuracy: 0.9847 - val_loss: 0.3417 - val_accuracy: 0.8806\n"
          ]
        }
      ]
    },
    {
      "cell_type": "code",
      "source": [
        "model = keras.Sequential([\n",
        " layers.Dense(512, activation=\"relu\"),\n",
        " layers.Dense(512, activation=\"relu\"),\n",
        " layers.Dense(1, activation=\"sigmoid\")\n",
        "])"
      ],
      "metadata": {
        "id": "4t1VHV_oQZVE"
      },
      "execution_count": 14,
      "outputs": []
    },
    {
      "cell_type": "code",
      "source": [
        "model.compile(optimizer=\"rmsprop\",\n",
        " loss=\"binary_crossentropy\",\n",
        " metrics=[\"accuracy\"])"
      ],
      "metadata": {
        "id": "gutwikh4Qb0w"
      },
      "execution_count": 15,
      "outputs": []
    },
    {
      "cell_type": "code",
      "source": [
        "history_larger_model = model.fit(\n",
        " train_data, train_labels,\n",
        " epochs=20, batch_size=512, validation_split=0.4)"
      ],
      "metadata": {
        "colab": {
          "base_uri": "https://localhost:8080/"
        },
        "id": "OJMqoWuUQdah",
        "outputId": "d60b31b4-e200-430e-84eb-6676c795f7cc"
      },
      "execution_count": 16,
      "outputs": [
        {
          "output_type": "stream",
          "name": "stdout",
          "text": [
            "Epoch 1/20\n",
            "30/30 [==============================] - 11s 335ms/step - loss: 0.5785 - accuracy: 0.7137 - val_loss: 0.3410 - val_accuracy: 0.8680\n",
            "Epoch 2/20\n",
            "30/30 [==============================] - 9s 310ms/step - loss: 0.3231 - accuracy: 0.8667 - val_loss: 0.3174 - val_accuracy: 0.8669\n",
            "Epoch 3/20\n",
            "30/30 [==============================] - 10s 336ms/step - loss: 0.2434 - accuracy: 0.9012 - val_loss: 0.4375 - val_accuracy: 0.8286\n",
            "Epoch 4/20\n",
            "30/30 [==============================] - 10s 344ms/step - loss: 0.1914 - accuracy: 0.9241 - val_loss: 0.2708 - val_accuracy: 0.8880\n",
            "Epoch 5/20\n",
            "30/30 [==============================] - 9s 311ms/step - loss: 0.1388 - accuracy: 0.9488 - val_loss: 0.5518 - val_accuracy: 0.7988\n",
            "Epoch 6/20\n",
            "30/30 [==============================] - 8s 272ms/step - loss: 0.1093 - accuracy: 0.9599 - val_loss: 0.3629 - val_accuracy: 0.8787\n",
            "Epoch 7/20\n",
            "30/30 [==============================] - 9s 316ms/step - loss: 0.0802 - accuracy: 0.9722 - val_loss: 0.4902 - val_accuracy: 0.8388\n",
            "Epoch 8/20\n",
            "30/30 [==============================] - 10s 332ms/step - loss: 0.0361 - accuracy: 0.9910 - val_loss: 0.7847 - val_accuracy: 0.7950\n",
            "Epoch 9/20\n",
            "30/30 [==============================] - 9s 299ms/step - loss: 0.0466 - accuracy: 0.9855 - val_loss: 0.4380 - val_accuracy: 0.8827\n",
            "Epoch 10/20\n",
            "30/30 [==============================] - 10s 318ms/step - loss: 0.0799 - accuracy: 0.9810 - val_loss: 0.3878 - val_accuracy: 0.8829\n",
            "Epoch 11/20\n",
            "30/30 [==============================] - 10s 339ms/step - loss: 0.0070 - accuracy: 0.9995 - val_loss: 0.4864 - val_accuracy: 0.8845\n",
            "Epoch 12/20\n",
            "30/30 [==============================] - 10s 338ms/step - loss: 0.0841 - accuracy: 0.9817 - val_loss: 0.4043 - val_accuracy: 0.8806\n",
            "Epoch 13/20\n",
            "30/30 [==============================] - 9s 301ms/step - loss: 0.0052 - accuracy: 0.9999 - val_loss: 0.4911 - val_accuracy: 0.8822\n",
            "Epoch 14/20\n",
            "30/30 [==============================] - 10s 316ms/step - loss: 0.0020 - accuracy: 0.9999 - val_loss: 0.5698 - val_accuracy: 0.8793\n",
            "Epoch 15/20\n",
            "30/30 [==============================] - 10s 341ms/step - loss: 0.0011 - accuracy: 1.0000 - val_loss: 0.6461 - val_accuracy: 0.8791\n",
            "Epoch 16/20\n",
            "30/30 [==============================] - 10s 343ms/step - loss: 0.0884 - accuracy: 0.9815 - val_loss: 0.5050 - val_accuracy: 0.8813\n",
            "Epoch 17/20\n",
            "30/30 [==============================] - 9s 299ms/step - loss: 0.0014 - accuracy: 1.0000 - val_loss: 0.5850 - val_accuracy: 0.8814\n",
            "Epoch 18/20\n",
            "30/30 [==============================] - 9s 287ms/step - loss: 7.1585e-04 - accuracy: 1.0000 - val_loss: 0.6406 - val_accuracy: 0.8819\n",
            "Epoch 19/20\n",
            "30/30 [==============================] - 10s 346ms/step - loss: 4.5983e-04 - accuracy: 1.0000 - val_loss: 0.6867 - val_accuracy: 0.8818\n",
            "Epoch 20/20\n",
            "30/30 [==============================] - 10s 330ms/step - loss: 3.1772e-04 - accuracy: 1.0000 - val_loss: 0.7149 - val_accuracy: 0.8817\n"
          ]
        }
      ]
    },
    {
      "cell_type": "code",
      "source": [],
      "metadata": {
        "id": "mht28L5uQfFE"
      },
      "execution_count": null,
      "outputs": []
    }
  ]
}