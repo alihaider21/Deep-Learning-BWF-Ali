{
  "nbformat": 4,
  "nbformat_minor": 0,
  "metadata": {
    "colab": {
      "provenance": []
    },
    "kernelspec": {
      "name": "python3",
      "display_name": "Python 3"
    },
    "language_info": {
      "name": "python"
    }
  },
  "cells": [
    {
      "cell_type": "markdown",
      "source": [
        "`Listing 5.1 Adding white noise channels or all-zeros channels to MNIST`"
      ],
      "metadata": {
        "id": "nuvasvwJTF19"
      }
    },
    {
      "cell_type": "code",
      "source": [
        "from tensorflow.keras.datasets import mnist\n",
        "import numpy as np\n",
        "from tensorflow import keras\n",
        "from tensorflow.keras import layers"
      ],
      "metadata": {
        "id": "44WsWaVbTHgF"
      },
      "execution_count": 4,
      "outputs": []
    },
    {
      "cell_type": "code",
      "source": [
        "(train_images, train_labels), _ = mnist.load_data()\n",
        "train_images = train_images.reshape((60000, 28 * 28))\n",
        "train_images = train_images.astype(\"float32\") / 255\n",
        "train_images_with_noise_channels = np.concatenate(\n",
        " [train_images, np.random.random((len(train_images), 784))], axis=1)\n",
        "train_images_with_zeros_channels = np.concatenate(\n",
        " [train_images, np.zeros((len(train_images), 784))], axis=1)"
      ],
      "metadata": {
        "colab": {
          "base_uri": "https://localhost:8080/"
        },
        "id": "wVPHnrnwTNF7",
        "outputId": "2257fbfc-8c29-458f-971a-8061b7ede51d"
      },
      "execution_count": 2,
      "outputs": [
        {
          "output_type": "stream",
          "name": "stdout",
          "text": [
            "Downloading data from https://storage.googleapis.com/tensorflow/tf-keras-datasets/mnist.npz\n",
            "11490434/11490434 [==============================] - 0s 0us/step\n"
          ]
        }
      ]
    },
    {
      "cell_type": "code",
      "source": [
        "def get_model():\n",
        "    model = keras.Sequential([\n",
        "    layers.Dense(512, activation=\"relu\"),\n",
        "    layers.Dense(10, activation=\"softmax\")])\n",
        "    model.compile(optimizer=\"rmsprop\",\n",
        "    loss=\"sparse_categorical_crossentropy\",\n",
        "    metrics=[\"accuracy\"])\n",
        "    return model"
      ],
      "metadata": {
        "id": "34BzK09qTOVb"
      },
      "execution_count": 5,
      "outputs": []
    },
    {
      "cell_type": "code",
      "source": [
        "model = get_model()\n",
        "history_noise = model.fit(\n",
        " train_images_with_noise_channels, train_labels,\n",
        " epochs=10,\n",
        " batch_size=128,\n",
        " validation_split=0.2)"
      ],
      "metadata": {
        "colab": {
          "base_uri": "https://localhost:8080/"
        },
        "id": "lUj0kzphTQAg",
        "outputId": "71ca7613-c4ec-4840-fef2-7a7d186eed0f"
      },
      "execution_count": 6,
      "outputs": [
        {
          "output_type": "stream",
          "name": "stdout",
          "text": [
            "Epoch 1/10\n",
            "375/375 [==============================] - 9s 23ms/step - loss: 0.6175 - accuracy: 0.8136 - val_loss: 0.2921 - val_accuracy: 0.9128\n",
            "Epoch 2/10\n",
            "375/375 [==============================] - 8s 20ms/step - loss: 0.2544 - accuracy: 0.9212 - val_loss: 0.2222 - val_accuracy: 0.9339\n",
            "Epoch 3/10\n",
            "375/375 [==============================] - 10s 27ms/step - loss: 0.1662 - accuracy: 0.9482 - val_loss: 0.1705 - val_accuracy: 0.9482\n",
            "Epoch 4/10\n",
            "375/375 [==============================] - 10s 28ms/step - loss: 0.1183 - accuracy: 0.9630 - val_loss: 0.1360 - val_accuracy: 0.9598\n",
            "Epoch 5/10\n",
            "375/375 [==============================] - 13s 35ms/step - loss: 0.0864 - accuracy: 0.9730 - val_loss: 0.1363 - val_accuracy: 0.9613\n",
            "Epoch 6/10\n",
            "375/375 [==============================] - 11s 28ms/step - loss: 0.0631 - accuracy: 0.9800 - val_loss: 0.1764 - val_accuracy: 0.9507\n",
            "Epoch 7/10\n",
            "375/375 [==============================] - 8s 22ms/step - loss: 0.0473 - accuracy: 0.9844 - val_loss: 0.1470 - val_accuracy: 0.9581\n",
            "Epoch 8/10\n",
            "375/375 [==============================] - 8s 20ms/step - loss: 0.0350 - accuracy: 0.9890 - val_loss: 0.1317 - val_accuracy: 0.9643\n",
            "Epoch 9/10\n",
            "375/375 [==============================] - 7s 19ms/step - loss: 0.0249 - accuracy: 0.9927 - val_loss: 0.1288 - val_accuracy: 0.9691\n",
            "Epoch 10/10\n",
            "375/375 [==============================] - 7s 19ms/step - loss: 0.0182 - accuracy: 0.9945 - val_loss: 0.1519 - val_accuracy: 0.9616\n"
          ]
        }
      ]
    },
    {
      "cell_type": "code",
      "source": [
        "model = get_model()\n",
        "history_zeros = model.fit(\n",
        " train_images_with_zeros_channels, train_labels,\n",
        " epochs=10,\n",
        " batch_size=128,\n",
        " validation_split=0.2)"
      ],
      "metadata": {
        "colab": {
          "base_uri": "https://localhost:8080/"
        },
        "id": "-NWlRbnRTetU",
        "outputId": "bd7397b7-9310-47e7-a71d-83f290998004"
      },
      "execution_count": 7,
      "outputs": [
        {
          "output_type": "stream",
          "name": "stdout",
          "text": [
            "Epoch 1/10\n",
            "375/375 [==============================] - 11s 24ms/step - loss: 0.2969 - accuracy: 0.9150 - val_loss: 0.1547 - val_accuracy: 0.9550\n",
            "Epoch 2/10\n",
            "375/375 [==============================] - 8s 21ms/step - loss: 0.1249 - accuracy: 0.9638 - val_loss: 0.1156 - val_accuracy: 0.9641\n",
            "Epoch 3/10\n",
            "375/375 [==============================] - 7s 18ms/step - loss: 0.0812 - accuracy: 0.9756 - val_loss: 0.0888 - val_accuracy: 0.9720\n",
            "Epoch 4/10\n",
            "375/375 [==============================] - 8s 21ms/step - loss: 0.0594 - accuracy: 0.9821 - val_loss: 0.0788 - val_accuracy: 0.9765\n",
            "Epoch 5/10\n",
            "375/375 [==============================] - 7s 19ms/step - loss: 0.0442 - accuracy: 0.9871 - val_loss: 0.0850 - val_accuracy: 0.9744\n",
            "Epoch 6/10\n",
            "375/375 [==============================] - 7s 19ms/step - loss: 0.0334 - accuracy: 0.9901 - val_loss: 0.0743 - val_accuracy: 0.9777\n",
            "Epoch 7/10\n",
            "375/375 [==============================] - 8s 22ms/step - loss: 0.0255 - accuracy: 0.9927 - val_loss: 0.0754 - val_accuracy: 0.9786\n",
            "Epoch 8/10\n",
            "375/375 [==============================] - 7s 18ms/step - loss: 0.0199 - accuracy: 0.9940 - val_loss: 0.0768 - val_accuracy: 0.9787\n",
            "Epoch 9/10\n",
            "375/375 [==============================] - 8s 21ms/step - loss: 0.0147 - accuracy: 0.9963 - val_loss: 0.0754 - val_accuracy: 0.9796\n",
            "Epoch 10/10\n",
            "375/375 [==============================] - 7s 18ms/step - loss: 0.0109 - accuracy: 0.9973 - val_loss: 0.0748 - val_accuracy: 0.9793\n"
          ]
        }
      ]
    },
    {
      "cell_type": "markdown",
      "source": [
        "`Listing 5.3 Plotting a validation accuracy comparison`"
      ],
      "metadata": {
        "id": "Eo_hWqH0TiWI"
      }
    },
    {
      "cell_type": "code",
      "source": [
        "import matplotlib.pyplot as plt\n",
        "val_acc_noise = history_noise.history[\"val_accuracy\"]\n",
        "val_acc_zeros = history_zeros.history[\"val_accuracy\"]\n",
        "epochs = range(1, 11)\n",
        "plt.plot(epochs, val_acc_noise, \"b-\",\n",
        " label=\"Validation accuracy with noise channels\")\n",
        "plt.plot(epochs, val_acc_zeros, \"b--\",\n",
        " label=\"Validation accuracy with zeros channels\")\n",
        "plt.title(\"Effect of noise channels on validation accuracy\")\n",
        "plt.xlabel(\"Epochs\")\n",
        "plt.ylabel(\"Accuracy\")\n",
        "plt.legend()"
      ],
      "metadata": {
        "colab": {
          "base_uri": "https://localhost:8080/",
          "height": 490
        },
        "id": "tqjPL4UzTgHZ",
        "outputId": "3369d543-9454-4828-8323-03df63a1f77c"
      },
      "execution_count": 8,
      "outputs": [
        {
          "output_type": "execute_result",
          "data": {
            "text/plain": [
              "<matplotlib.legend.Legend at 0x7f5c4be2f760>"
            ]
          },
          "metadata": {},
          "execution_count": 8
        },
        {
          "output_type": "display_data",
          "data": {
            "text/plain": [
              "<Figure size 640x480 with 1 Axes>"
            ],
            "image/png": "[encoded data removed]"
          },
          "metadata": {}
        }
      ]
    },
    {
      "cell_type": "markdown",
      "source": [
        "`Listing 5.4 Fitting an MNIST model with randomly shuffled labels`"
      ],
      "metadata": {
        "id": "h7IBT1sPTooG"
      }
    },
    {
      "cell_type": "code",
      "source": [
        "(train_images, train_labels), _ = mnist.load_data()\n",
        "train_images = train_images.reshape((60000, 28 * 28))\n",
        "train_images = train_images.astype(\"float32\") / 255\n",
        "random_train_labels = train_labels[:]\n",
        "np.random.shuffle(random_train_labels)"
      ],
      "metadata": {
        "id": "wcH-VnBuTkjb"
      },
      "execution_count": 9,
      "outputs": []
    },
    {
      "cell_type": "code",
      "source": [
        "model = keras.Sequential([\n",
        " layers.Dense(512, activation=\"relu\"), layers.Dense(10, activation=\"softmax\")\n",
        "])"
      ],
      "metadata": {
        "id": "6HIAerQpTqf9"
      },
      "execution_count": 10,
      "outputs": []
    },
    {
      "cell_type": "code",
      "source": [
        "model.compile(optimizer=\"rmsprop\",\n",
        " loss=\"sparse_categorical_crossentropy\",\n",
        " metrics=[\"accuracy\"])"
      ],
      "metadata": {
        "id": "0cyTwdkJTvBZ"
      },
      "execution_count": 11,
      "outputs": []
    },
    {
      "cell_type": "code",
      "source": [
        "model.fit(train_images, random_train_labels,\n",
        " epochs=100,\n",
        " batch_size=128,\n",
        " validation_split=0.2)"
      ],
      "metadata": {
        "colab": {
          "base_uri": "https://localhost:8080/"
        },
        "id": "WhinkhP_T3cW",
        "outputId": "882da522-a7a1-43a6-fdb2-fbb6c729fede"
      },
      "execution_count": 12,
      "outputs": [
        {
          "output_type": "stream",
          "name": "stdout",
          "text": [
            "Epoch 1/100\n",
            "375/375 [==============================] - 4s 11ms/step - loss: 2.3138 - accuracy: 0.1048 - val_loss: 2.3061 - val_accuracy: 0.1019\n",
            "Epoch 2/100\n",
            "375/375 [==============================] - 5s 13ms/step - loss: 2.2992 - accuracy: 0.1179 - val_loss: 2.3090 - val_accuracy: 0.1020\n",
            "Epoch 3/100\n",
            "375/375 [==============================] - 4s 10ms/step - loss: 2.2899 - accuracy: 0.1292 - val_loss: 2.3187 - val_accuracy: 0.1002\n",
            "Epoch 4/100\n",
            "375/375 [==============================] - 4s 11ms/step - loss: 2.2770 - accuracy: 0.1404 - val_loss: 2.3304 - val_accuracy: 0.0967\n",
            "Epoch 5/100\n",
            "375/375 [==============================] - 5s 13ms/step - loss: 2.2619 - accuracy: 0.1550 - val_loss: 2.3443 - val_accuracy: 0.1044\n",
            "Epoch 6/100\n",
            "375/375 [==============================] - 4s 11ms/step - loss: 2.2430 - accuracy: 0.1658 - val_loss: 2.3527 - val_accuracy: 0.1016\n",
            "Epoch 7/100\n",
            "375/375 [==============================] - 4s 10ms/step - loss: 2.2191 - accuracy: 0.1806 - val_loss: 2.3656 - val_accuracy: 0.1042\n",
            "Epoch 8/100\n",
            "375/375 [==============================] - 5s 14ms/step - loss: 2.1932 - accuracy: 0.1971 - val_loss: 2.3816 - val_accuracy: 0.0981\n",
            "Epoch 9/100\n",
            "375/375 [==============================] - 4s 10ms/step - loss: 2.1626 - accuracy: 0.2142 - val_loss: 2.4077 - val_accuracy: 0.0957\n",
            "Epoch 10/100\n",
            "375/375 [==============================] - 4s 10ms/step - loss: 2.1325 - accuracy: 0.2288 - val_loss: 2.4296 - val_accuracy: 0.0988\n",
            "Epoch 11/100\n",
            "375/375 [==============================] - 5s 14ms/step - loss: 2.0970 - accuracy: 0.2469 - val_loss: 2.4536 - val_accuracy: 0.0980\n",
            "Epoch 12/100\n",
            "375/375 [==============================] - 4s 11ms/step - loss: 2.0622 - accuracy: 0.2638 - val_loss: 2.4780 - val_accuracy: 0.0964\n",
            "Epoch 13/100\n",
            "375/375 [==============================] - 4s 11ms/step - loss: 2.0247 - accuracy: 0.2797 - val_loss: 2.5022 - val_accuracy: 0.0964\n",
            "Epoch 14/100\n",
            "375/375 [==============================] - 5s 13ms/step - loss: 1.9841 - accuracy: 0.2987 - val_loss: 2.5334 - val_accuracy: 0.0975\n",
            "Epoch 15/100\n",
            "375/375 [==============================] - 4s 11ms/step - loss: 1.9448 - accuracy: 0.3154 - val_loss: 2.5792 - val_accuracy: 0.0996\n",
            "Epoch 16/100\n",
            "375/375 [==============================] - 4s 11ms/step - loss: 1.9070 - accuracy: 0.3302 - val_loss: 2.6022 - val_accuracy: 0.0967\n",
            "Epoch 17/100\n",
            "375/375 [==============================] - 5s 13ms/step - loss: 1.8659 - accuracy: 0.3471 - val_loss: 2.6387 - val_accuracy: 0.0989\n",
            "Epoch 18/100\n",
            "375/375 [==============================] - 4s 10ms/step - loss: 1.8293 - accuracy: 0.3633 - val_loss: 2.6802 - val_accuracy: 0.0971\n",
            "Epoch 19/100\n",
            "375/375 [==============================] - 4s 12ms/step - loss: 1.7885 - accuracy: 0.3800 - val_loss: 2.7167 - val_accuracy: 0.0983\n",
            "Epoch 20/100\n",
            "375/375 [==============================] - 4s 12ms/step - loss: 1.7507 - accuracy: 0.3921 - val_loss: 2.7530 - val_accuracy: 0.1010\n",
            "Epoch 21/100\n",
            "375/375 [==============================] - 4s 11ms/step - loss: 1.7138 - accuracy: 0.4081 - val_loss: 2.7990 - val_accuracy: 0.0977\n",
            "Epoch 22/100\n",
            "375/375 [==============================] - 5s 14ms/step - loss: 1.6744 - accuracy: 0.4232 - val_loss: 2.8437 - val_accuracy: 0.1010\n",
            "Epoch 23/100\n",
            "375/375 [==============================] - 4s 11ms/step - loss: 1.6400 - accuracy: 0.4369 - val_loss: 2.8830 - val_accuracy: 0.0978\n",
            "Epoch 24/100\n",
            "375/375 [==============================] - 4s 11ms/step - loss: 1.6033 - accuracy: 0.4512 - val_loss: 2.9328 - val_accuracy: 0.1002\n",
            "Epoch 25/100\n",
            "375/375 [==============================] - 5s 13ms/step - loss: 1.5672 - accuracy: 0.4624 - val_loss: 2.9583 - val_accuracy: 0.1021\n",
            "Epoch 26/100\n",
            "375/375 [==============================] - 4s 11ms/step - loss: 1.5340 - accuracy: 0.4739 - val_loss: 3.0168 - val_accuracy: 0.1007\n",
            "Epoch 27/100\n",
            "375/375 [==============================] - 4s 11ms/step - loss: 1.4989 - accuracy: 0.4906 - val_loss: 3.0712 - val_accuracy: 0.1008\n",
            "Epoch 28/100\n",
            "375/375 [==============================] - 5s 13ms/step - loss: 1.4682 - accuracy: 0.5008 - val_loss: 3.0996 - val_accuracy: 0.0987\n",
            "Epoch 29/100\n",
            "375/375 [==============================] - 4s 11ms/step - loss: 1.4351 - accuracy: 0.5123 - val_loss: 3.1726 - val_accuracy: 0.1024\n",
            "Epoch 30/100\n",
            "375/375 [==============================] - 4s 10ms/step - loss: 1.4051 - accuracy: 0.5236 - val_loss: 3.2148 - val_accuracy: 0.1014\n",
            "Epoch 31/100\n",
            "375/375 [==============================] - 5s 13ms/step - loss: 1.3729 - accuracy: 0.5370 - val_loss: 3.2823 - val_accuracy: 0.1019\n",
            "Epoch 32/100\n",
            "375/375 [==============================] - 4s 10ms/step - loss: 1.3440 - accuracy: 0.5477 - val_loss: 3.3349 - val_accuracy: 0.1015\n",
            "Epoch 33/100\n",
            "375/375 [==============================] - 4s 10ms/step - loss: 1.3154 - accuracy: 0.5547 - val_loss: 3.3871 - val_accuracy: 0.0994\n",
            "Epoch 34/100\n",
            "375/375 [==============================] - 5s 13ms/step - loss: 1.2872 - accuracy: 0.5672 - val_loss: 3.4292 - val_accuracy: 0.1008\n",
            "Epoch 35/100\n",
            "375/375 [==============================] - 4s 11ms/step - loss: 1.2597 - accuracy: 0.5788 - val_loss: 3.4777 - val_accuracy: 0.0997\n",
            "Epoch 36/100\n",
            "375/375 [==============================] - 4s 10ms/step - loss: 1.2332 - accuracy: 0.5879 - val_loss: 3.5540 - val_accuracy: 0.1030\n",
            "Epoch 37/100\n",
            "375/375 [==============================] - 5s 12ms/step - loss: 1.2074 - accuracy: 0.5946 - val_loss: 3.5903 - val_accuracy: 0.1000\n",
            "Epoch 38/100\n",
            "375/375 [==============================] - 4s 11ms/step - loss: 1.1814 - accuracy: 0.6055 - val_loss: 3.6652 - val_accuracy: 0.1013\n",
            "Epoch 39/100\n",
            "375/375 [==============================] - 4s 10ms/step - loss: 1.1562 - accuracy: 0.6145 - val_loss: 3.7140 - val_accuracy: 0.0978\n",
            "Epoch 40/100\n",
            "375/375 [==============================] - 5s 12ms/step - loss: 1.1343 - accuracy: 0.6229 - val_loss: 3.8219 - val_accuracy: 0.0978\n",
            "Epoch 41/100\n",
            "375/375 [==============================] - 4s 12ms/step - loss: 1.1088 - accuracy: 0.6338 - val_loss: 3.8612 - val_accuracy: 0.1021\n",
            "Epoch 42/100\n",
            "375/375 [==============================] - 4s 11ms/step - loss: 1.0859 - accuracy: 0.6407 - val_loss: 3.9011 - val_accuracy: 0.1012\n",
            "Epoch 43/100\n",
            "375/375 [==============================] - 5s 13ms/step - loss: 1.0601 - accuracy: 0.6482 - val_loss: 3.9692 - val_accuracy: 0.1014\n",
            "Epoch 44/100\n",
            "375/375 [==============================] - 4s 10ms/step - loss: 1.0396 - accuracy: 0.6577 - val_loss: 3.9897 - val_accuracy: 0.1002\n",
            "Epoch 45/100\n",
            "375/375 [==============================] - 4s 10ms/step - loss: 1.0190 - accuracy: 0.6636 - val_loss: 4.0602 - val_accuracy: 0.1010\n",
            "Epoch 46/100\n",
            "375/375 [==============================] - 5s 13ms/step - loss: 0.9976 - accuracy: 0.6721 - val_loss: 4.1307 - val_accuracy: 0.0987\n",
            "Epoch 47/100\n",
            "375/375 [==============================] - 4s 12ms/step - loss: 0.9791 - accuracy: 0.6788 - val_loss: 4.2084 - val_accuracy: 0.0988\n",
            "Epoch 48/100\n",
            "375/375 [==============================] - 4s 11ms/step - loss: 0.9554 - accuracy: 0.6856 - val_loss: 4.2696 - val_accuracy: 0.0991\n",
            "Epoch 49/100\n",
            "375/375 [==============================] - 5s 14ms/step - loss: 0.9356 - accuracy: 0.6956 - val_loss: 4.3579 - val_accuracy: 0.1008\n",
            "Epoch 50/100\n",
            "375/375 [==============================] - 4s 10ms/step - loss: 0.9164 - accuracy: 0.6982 - val_loss: 4.3998 - val_accuracy: 0.1002\n",
            "Epoch 51/100\n",
            "375/375 [==============================] - 4s 11ms/step - loss: 0.8986 - accuracy: 0.7047 - val_loss: 4.5196 - val_accuracy: 0.0994\n",
            "Epoch 52/100\n",
            "375/375 [==============================] - 6s 16ms/step - loss: 0.8824 - accuracy: 0.7111 - val_loss: 4.5763 - val_accuracy: 0.0976\n",
            "Epoch 53/100\n",
            "375/375 [==============================] - 5s 14ms/step - loss: 0.8635 - accuracy: 0.7195 - val_loss: 4.5966 - val_accuracy: 0.1023\n",
            "Epoch 54/100\n",
            "375/375 [==============================] - 4s 11ms/step - loss: 0.8431 - accuracy: 0.7261 - val_loss: 4.6455 - val_accuracy: 0.1013\n",
            "Epoch 55/100\n",
            "375/375 [==============================] - 5s 14ms/step - loss: 0.8293 - accuracy: 0.7283 - val_loss: 4.7353 - val_accuracy: 0.1016\n",
            "Epoch 56/100\n",
            "375/375 [==============================] - 4s 11ms/step - loss: 0.8108 - accuracy: 0.7356 - val_loss: 4.7446 - val_accuracy: 0.0997\n",
            "Epoch 57/100\n",
            "375/375 [==============================] - 4s 11ms/step - loss: 0.7958 - accuracy: 0.7427 - val_loss: 4.8280 - val_accuracy: 0.1006\n",
            "Epoch 58/100\n",
            "375/375 [==============================] - 5s 13ms/step - loss: 0.7794 - accuracy: 0.7477 - val_loss: 4.9295 - val_accuracy: 0.1008\n",
            "Epoch 59/100\n",
            "375/375 [==============================] - 4s 10ms/step - loss: 0.7639 - accuracy: 0.7523 - val_loss: 5.0245 - val_accuracy: 0.0979\n",
            "Epoch 60/100\n",
            "375/375 [==============================] - 4s 11ms/step - loss: 0.7480 - accuracy: 0.7606 - val_loss: 5.0501 - val_accuracy: 0.0986\n",
            "Epoch 61/100\n",
            "375/375 [==============================] - 5s 14ms/step - loss: 0.7337 - accuracy: 0.7631 - val_loss: 5.1316 - val_accuracy: 0.1011\n",
            "Epoch 62/100\n",
            "375/375 [==============================] - 4s 11ms/step - loss: 0.7212 - accuracy: 0.7661 - val_loss: 5.1918 - val_accuracy: 0.1018\n",
            "Epoch 63/100\n",
            "375/375 [==============================] - 4s 12ms/step - loss: 0.7047 - accuracy: 0.7723 - val_loss: 5.2735 - val_accuracy: 0.1012\n",
            "Epoch 64/100\n",
            "375/375 [==============================] - 5s 13ms/step - loss: 0.6902 - accuracy: 0.7786 - val_loss: 5.3410 - val_accuracy: 0.1033\n",
            "Epoch 65/100\n",
            "375/375 [==============================] - 4s 11ms/step - loss: 0.6759 - accuracy: 0.7827 - val_loss: 5.4300 - val_accuracy: 0.0978\n",
            "Epoch 66/100\n",
            "375/375 [==============================] - 5s 12ms/step - loss: 0.6596 - accuracy: 0.7871 - val_loss: 5.4789 - val_accuracy: 0.1015\n",
            "Epoch 67/100\n",
            "375/375 [==============================] - 4s 12ms/step - loss: 0.6505 - accuracy: 0.7912 - val_loss: 5.5290 - val_accuracy: 0.1029\n",
            "Epoch 68/100\n",
            "375/375 [==============================] - 4s 11ms/step - loss: 0.6402 - accuracy: 0.7953 - val_loss: 5.6192 - val_accuracy: 0.1018\n",
            "Epoch 69/100\n",
            "375/375 [==============================] - 5s 13ms/step - loss: 0.6270 - accuracy: 0.7986 - val_loss: 5.7422 - val_accuracy: 0.1010\n",
            "Epoch 70/100\n",
            "375/375 [==============================] - 5s 12ms/step - loss: 0.6130 - accuracy: 0.8041 - val_loss: 5.7671 - val_accuracy: 0.1011\n",
            "Epoch 71/100\n",
            "375/375 [==============================] - 4s 11ms/step - loss: 0.5996 - accuracy: 0.8080 - val_loss: 5.8572 - val_accuracy: 0.1002\n",
            "Epoch 72/100\n",
            "375/375 [==============================] - 5s 13ms/step - loss: 0.5899 - accuracy: 0.8133 - val_loss: 5.9337 - val_accuracy: 0.1007\n",
            "Epoch 73/100\n",
            "375/375 [==============================] - 4s 11ms/step - loss: 0.5761 - accuracy: 0.8167 - val_loss: 5.9996 - val_accuracy: 0.0988\n",
            "Epoch 74/100\n",
            "375/375 [==============================] - 4s 10ms/step - loss: 0.5674 - accuracy: 0.8186 - val_loss: 6.0574 - val_accuracy: 0.1029\n",
            "Epoch 75/100\n",
            "375/375 [==============================] - 5s 13ms/step - loss: 0.5558 - accuracy: 0.8225 - val_loss: 6.1249 - val_accuracy: 0.1008\n",
            "Epoch 76/100\n",
            "375/375 [==============================] - 4s 11ms/step - loss: 0.5457 - accuracy: 0.8271 - val_loss: 6.1792 - val_accuracy: 0.1016\n",
            "Epoch 77/100\n",
            "375/375 [==============================] - 4s 10ms/step - loss: 0.5358 - accuracy: 0.8308 - val_loss: 6.2873 - val_accuracy: 0.1010\n",
            "Epoch 78/100\n",
            "375/375 [==============================] - 5s 13ms/step - loss: 0.5251 - accuracy: 0.8347 - val_loss: 6.3432 - val_accuracy: 0.0973\n",
            "Epoch 79/100\n",
            "375/375 [==============================] - 4s 11ms/step - loss: 0.5150 - accuracy: 0.8378 - val_loss: 6.4114 - val_accuracy: 0.1031\n",
            "Epoch 80/100\n",
            "375/375 [==============================] - 4s 10ms/step - loss: 0.5052 - accuracy: 0.8424 - val_loss: 6.4824 - val_accuracy: 0.1048\n",
            "Epoch 81/100\n",
            "375/375 [==============================] - 5s 13ms/step - loss: 0.4956 - accuracy: 0.8439 - val_loss: 6.5573 - val_accuracy: 0.1012\n",
            "Epoch 82/100\n",
            "375/375 [==============================] - 4s 11ms/step - loss: 0.4869 - accuracy: 0.8480 - val_loss: 6.6737 - val_accuracy: 0.1018\n",
            "Epoch 83/100\n",
            "375/375 [==============================] - 4s 11ms/step - loss: 0.4751 - accuracy: 0.8516 - val_loss: 6.6851 - val_accuracy: 0.0995\n",
            "Epoch 84/100\n",
            "375/375 [==============================] - 5s 13ms/step - loss: 0.4682 - accuracy: 0.8525 - val_loss: 6.7382 - val_accuracy: 0.1016\n",
            "Epoch 85/100\n",
            "375/375 [==============================] - 4s 11ms/step - loss: 0.4582 - accuracy: 0.8566 - val_loss: 6.8102 - val_accuracy: 0.1013\n",
            "Epoch 86/100\n",
            "375/375 [==============================] - 4s 11ms/step - loss: 0.4502 - accuracy: 0.8591 - val_loss: 6.9324 - val_accuracy: 0.1022\n",
            "Epoch 87/100\n",
            "375/375 [==============================] - 5s 14ms/step - loss: 0.4405 - accuracy: 0.8625 - val_loss: 7.0075 - val_accuracy: 0.0999\n",
            "Epoch 88/100\n",
            "375/375 [==============================] - 4s 11ms/step - loss: 0.4338 - accuracy: 0.8649 - val_loss: 7.0587 - val_accuracy: 0.1013\n",
            "Epoch 89/100\n",
            "375/375 [==============================] - 4s 11ms/step - loss: 0.4267 - accuracy: 0.8675 - val_loss: 7.1579 - val_accuracy: 0.0994\n",
            "Epoch 90/100\n",
            "375/375 [==============================] - 5s 13ms/step - loss: 0.4188 - accuracy: 0.8698 - val_loss: 7.2484 - val_accuracy: 0.1004\n",
            "Epoch 91/100\n",
            "375/375 [==============================] - 4s 11ms/step - loss: 0.4121 - accuracy: 0.8715 - val_loss: 7.3202 - val_accuracy: 0.0972\n",
            "Epoch 92/100\n",
            "375/375 [==============================] - 4s 11ms/step - loss: 0.4019 - accuracy: 0.8753 - val_loss: 7.3564 - val_accuracy: 0.1028\n",
            "Epoch 93/100\n",
            "375/375 [==============================] - 5s 14ms/step - loss: 0.3948 - accuracy: 0.8783 - val_loss: 7.5171 - val_accuracy: 0.1005\n",
            "Epoch 94/100\n",
            "375/375 [==============================] - 4s 11ms/step - loss: 0.3863 - accuracy: 0.8812 - val_loss: 7.5126 - val_accuracy: 0.1011\n",
            "Epoch 95/100\n",
            "375/375 [==============================] - 4s 11ms/step - loss: 0.3806 - accuracy: 0.8803 - val_loss: 7.6100 - val_accuracy: 0.1019\n",
            "Epoch 96/100\n",
            "375/375 [==============================] - 5s 14ms/step - loss: 0.3741 - accuracy: 0.8837 - val_loss: 7.6826 - val_accuracy: 0.0988\n",
            "Epoch 97/100\n",
            "375/375 [==============================] - 4s 10ms/step - loss: 0.3689 - accuracy: 0.8854 - val_loss: 7.7148 - val_accuracy: 0.1005\n",
            "Epoch 98/100\n",
            "375/375 [==============================] - 4s 10ms/step - loss: 0.3592 - accuracy: 0.8888 - val_loss: 7.7621 - val_accuracy: 0.1007\n",
            "Epoch 99/100\n",
            "375/375 [==============================] - 5s 14ms/step - loss: 0.3563 - accuracy: 0.8903 - val_loss: 7.8625 - val_accuracy: 0.1015\n",
            "Epoch 100/100\n",
            "375/375 [==============================] - 4s 11ms/step - loss: 0.3499 - accuracy: 0.8930 - val_loss: 8.0107 - val_accuracy: 0.1022\n"
          ]
        },
        {
          "output_type": "execute_result",
          "data": {
            "text/plain": [
              "<keras.callbacks.History at 0x7f5c4bd3d4e0>"
            ]
          },
          "metadata": {},
          "execution_count": 12
        }
      ]
    },
    {
      "cell_type": "code",
      "source": [],
      "metadata": {
        "id": "MTJpVfTrUCLS"
      },
      "execution_count": null,
      "outputs": []
    }
  ]
}